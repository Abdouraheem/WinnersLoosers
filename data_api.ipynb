{
 "cells": [
  {
   "cell_type": "code",
   "execution_count": 1,
   "id": "9fa84279-15c3-4649-bbe7-97977d013d06",
   "metadata": {},
   "outputs": [],
   "source": [
    "import pandas as pd\n",
    "import os\n",
    "from dotenv import load_dotenv\n",
    "import requests\n",
    "import json\n",
    "import quandl\n",
    "%matplotlib inline"
   ]
  },
  {
   "cell_type": "code",
   "execution_count": 2,
   "id": "60b930d4-4102-4077-a110-938e77c70b58",
   "metadata": {},
   "outputs": [
    {
     "data": {
      "text/plain": [
       "True"
      ]
     },
     "execution_count": 2,
     "metadata": {},
     "output_type": "execute_result"
    }
   ],
   "source": [
    "load_dotenv()"
   ]
  },
  {
   "cell_type": "code",
   "execution_count": 3,
   "id": "309bd73c-31e8-4708-9aa5-db9154c368ab",
   "metadata": {},
   "outputs": [],
   "source": [
    "quandl.ApiConfig.api_key = os.getenv('QUANDL_API_KEY')\n"
   ]
  },
  {
   "cell_type": "code",
   "execution_count": 4,
   "id": "8f5092d9-9f98-4e4d-b748-bae85208edc8",
   "metadata": {},
   "outputs": [],
   "source": [
    "data = quandl.get(\"EIA/NG_RNGWHHD_D\", start_date='2020-10-31')"
   ]
  },
  {
   "cell_type": "code",
   "execution_count": 5,
   "id": "8a9651a9-d128-4169-af66-0fbd94abb62a",
   "metadata": {},
   "outputs": [],
   "source": [
    "queries = {\n",
    "    'Commodity':[\n",
    "        'Cushing, OK WTI Spot Price FOB, Daily',\n",
    "        'New York Harbor Reformulated RBOB Regular Gasoline Future Contract 1, Daily',\n",
    "        'New York Harbor Ultra-Low Sulfur No 2 Diesel Spot Price, Daily',\n",
    "        'Henry Hub Natural Gas Spot Price, Daily',\n",
    "        'Gold Price: London Fixing',\n",
    "        'Silver Price: London Fixing'\n",
    "    ],\n",
    "    \n",
    "    'Data Link Code':[\n",
    "        'EIA/PET_RWTC_D',\n",
    "        'EIA/PET_EER_EPMRR_PE1_Y35NY_DPG_D',\n",
    "        'EIA/PET_EER_EPD2DXL0_PF4_Y35NY_DPG_D',\n",
    "        'EIA/NG_RNGWHHD_D',\n",
    "        'LBMA/GOLD',\n",
    "        'LBMA/SILVER'\n",
    "    ]\n",
    "}"
   ]
  },
  {
   "cell_type": "code",
   "execution_count": 6,
   "id": "480abf32-d748-4ad5-8d90-a0ebd4b9fac0",
   "metadata": {},
   "outputs": [],
   "source": [
    "queries_df = pd.DataFrame(queries)"
   ]
  },
  {
   "cell_type": "code",
   "execution_count": 7,
   "id": "755e238b-394d-4a93-bb04-4434b53d8963",
   "metadata": {},
   "outputs": [
    {
     "data": {
      "text/html": [
       "<div>\n",
       "<style scoped>\n",
       "    .dataframe tbody tr th:only-of-type {\n",
       "        vertical-align: middle;\n",
       "    }\n",
       "\n",
       "    .dataframe tbody tr th {\n",
       "        vertical-align: top;\n",
       "    }\n",
       "\n",
       "    .dataframe thead th {\n",
       "        text-align: right;\n",
       "    }\n",
       "</style>\n",
       "<table border=\"1\" class=\"dataframe\">\n",
       "  <thead>\n",
       "    <tr style=\"text-align: right;\">\n",
       "      <th></th>\n",
       "      <th>Commodity</th>\n",
       "      <th>Data Link Code</th>\n",
       "    </tr>\n",
       "  </thead>\n",
       "  <tbody>\n",
       "    <tr>\n",
       "      <th>0</th>\n",
       "      <td>Cushing, OK WTI Spot Price FOB, Daily</td>\n",
       "      <td>EIA/PET_RWTC_D</td>\n",
       "    </tr>\n",
       "    <tr>\n",
       "      <th>1</th>\n",
       "      <td>New York Harbor Reformulated RBOB Regular Gaso...</td>\n",
       "      <td>EIA/PET_EER_EPMRR_PE1_Y35NY_DPG_D</td>\n",
       "    </tr>\n",
       "    <tr>\n",
       "      <th>2</th>\n",
       "      <td>New York Harbor Ultra-Low Sulfur No 2 Diesel S...</td>\n",
       "      <td>EIA/PET_EER_EPD2DXL0_PF4_Y35NY_DPG_D</td>\n",
       "    </tr>\n",
       "    <tr>\n",
       "      <th>3</th>\n",
       "      <td>Henry Hub Natural Gas Spot Price, Daily</td>\n",
       "      <td>EIA/NG_RNGWHHD_D</td>\n",
       "    </tr>\n",
       "    <tr>\n",
       "      <th>4</th>\n",
       "      <td>Gold Price: London Fixing</td>\n",
       "      <td>LBMA/GOLD</td>\n",
       "    </tr>\n",
       "    <tr>\n",
       "      <th>5</th>\n",
       "      <td>Silver Price: London Fixing</td>\n",
       "      <td>LBMA/SILVER</td>\n",
       "    </tr>\n",
       "  </tbody>\n",
       "</table>\n",
       "</div>"
      ],
      "text/plain": [
       "                                           Commodity  \\\n",
       "0              Cushing, OK WTI Spot Price FOB, Daily   \n",
       "1  New York Harbor Reformulated RBOB Regular Gaso...   \n",
       "2  New York Harbor Ultra-Low Sulfur No 2 Diesel S...   \n",
       "3            Henry Hub Natural Gas Spot Price, Daily   \n",
       "4                          Gold Price: London Fixing   \n",
       "5                        Silver Price: London Fixing   \n",
       "\n",
       "                         Data Link Code  \n",
       "0                        EIA/PET_RWTC_D  \n",
       "1     EIA/PET_EER_EPMRR_PE1_Y35NY_DPG_D  \n",
       "2  EIA/PET_EER_EPD2DXL0_PF4_Y35NY_DPG_D  \n",
       "3                      EIA/NG_RNGWHHD_D  \n",
       "4                             LBMA/GOLD  \n",
       "5                           LBMA/SILVER  "
      ]
     },
     "execution_count": 7,
     "metadata": {},
     "output_type": "execute_result"
    }
   ],
   "source": [
    "queries_df"
   ]
  },
  {
   "cell_type": "code",
   "execution_count": 8,
   "id": "4589b383-4a16-47b6-bf32-6e3e3ca90299",
   "metadata": {},
   "outputs": [],
   "source": [
    "commodities = [queries_df['Data Link Code']]"
   ]
  },
  {
   "cell_type": "code",
   "execution_count": 9,
   "id": "2b045eb7-57f7-438d-90dd-117a518ed705",
   "metadata": {},
   "outputs": [
    {
     "data": {
      "text/plain": [
       "[0                          EIA/PET_RWTC_D\n",
       " 1       EIA/PET_EER_EPMRR_PE1_Y35NY_DPG_D\n",
       " 2    EIA/PET_EER_EPD2DXL0_PF4_Y35NY_DPG_D\n",
       " 3                        EIA/NG_RNGWHHD_D\n",
       " 4                               LBMA/GOLD\n",
       " 5                             LBMA/SILVER\n",
       " Name: Data Link Code, dtype: object]"
      ]
     },
     "execution_count": 9,
     "metadata": {},
     "output_type": "execute_result"
    }
   ],
   "source": [
    "commodities "
   ]
  },
  {
   "cell_type": "code",
   "execution_count": 10,
   "id": "db0f1b15-2e2f-465a-b242-9678593c2edc",
   "metadata": {},
   "outputs": [],
   "source": [
    "oil = quandl.get('EIA/NG_RNGWHHD_D', start_date='2020-10-31')\n",
    "oil = oil.rename(columns={'Value': 'oil'})"
   ]
  },
  {
   "cell_type": "code",
   "execution_count": 11,
   "id": "be823b9b-2c4d-48ce-a340-29ee63ab5bee",
   "metadata": {},
   "outputs": [],
   "source": [
    "gasoline = quandl.get('EIA/PET_EER_EPMRR_PE1_Y35NY_DPG_D', start_date='2020-10-31')\n",
    "gasoline = gasoline.rename(columns={'Value': 'gasoline'})"
   ]
  },
  {
   "cell_type": "code",
   "execution_count": 12,
   "id": "10d18943-46ef-46e5-af05-7e2e97816be9",
   "metadata": {},
   "outputs": [],
   "source": [
    "diesel = quandl.get('EIA/PET_EER_EPD2DXL0_PF4_Y35NY_DPG_D', start_date='2020-10-31')\n",
    "diesel = diesel.rename(columns={'Value': 'diesel'})"
   ]
  },
  {
   "cell_type": "code",
   "execution_count": 13,
   "id": "5a5350ed-e1ed-4b90-9879-63503e808b94",
   "metadata": {},
   "outputs": [],
   "source": [
    "ng = quandl.get('EIA/NG_RNGWHHD_D', start_date='2020-10-31')\n",
    "ng = ng.rename(columns={'Value': 'ng'})"
   ]
  },
  {
   "cell_type": "code",
   "execution_count": 14,
   "id": "efc99aae-7e2c-47a5-a1b4-be66c3555a6e",
   "metadata": {},
   "outputs": [],
   "source": [
    "gold = quandl.get('LBMA/GOLD', start_date='2020-10-31')\n",
    "gold = gold.rename(columns={'USD (PM)': 'gold'})"
   ]
  },
  {
   "cell_type": "code",
   "execution_count": 15,
   "id": "1e162c0f-7408-4e52-9308-b4c4575b5a00",
   "metadata": {},
   "outputs": [],
   "source": [
    "silver = quandl.get('LBMA/SILVER', start_date='2020-10-31')\n",
    "silver = silver.rename(columns={'USD': 'silver'})\n"
   ]
  },
  {
   "cell_type": "code",
   "execution_count": 16,
   "id": "f9c8602c-fbe1-4b3e-9600-7f8a78343134",
   "metadata": {},
   "outputs": [],
   "source": [
    "closing_prices_df = pd.DataFrame()"
   ]
  },
  {
   "cell_type": "code",
   "execution_count": 17,
   "id": "65312826-5388-4576-a2bf-9b6ce4b5d669",
   "metadata": {},
   "outputs": [],
   "source": [
    "closing_prices_df = pd.concat([oil, gasoline, diesel, ng, gold, silver], axis=1)\n",
    "closing_prices_df = closing_prices_df.drop(columns=['USD (AM)', 'GBP (AM)', 'EURO (AM)', 'EURO (PM)', 'GBP (PM)', 'GBP', 'EURO'])"
   ]
  },
  {
   "cell_type": "code",
   "execution_count": 21,
   "id": "1a0349ca-bf06-4421-b0d8-c63e948b4f20",
   "metadata": {},
   "outputs": [],
   "source": [
    "closing_prices_df_csv_data = closing_prices_df.to_csv('data/rawdata/commodity_prices.csv')"
   ]
  },
  {
   "cell_type": "code",
   "execution_count": null,
   "id": "a7790661-6ae3-471f-adf0-0f095e4f22ca",
   "metadata": {},
   "outputs": [],
   "source": []
  },
  {
   "cell_type": "code",
   "execution_count": null,
   "id": "80b89427-f0d5-4308-bb56-f0cc66fb8553",
   "metadata": {},
   "outputs": [],
   "source": []
  }
 ],
 "metadata": {
  "kernelspec": {
   "display_name": "dev",
   "language": "python",
   "name": "dev"
  },
  "language_info": {
   "codemirror_mode": {
    "name": "ipython",
    "version": 3
   },
   "file_extension": ".py",
   "mimetype": "text/x-python",
   "name": "python",
   "nbconvert_exporter": "python",
   "pygments_lexer": "ipython3",
   "version": "3.8.8"
  }
 },
 "nbformat": 4,
 "nbformat_minor": 5
}
