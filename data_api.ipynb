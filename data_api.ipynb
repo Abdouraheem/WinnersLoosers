{
 "cells": [
  {
   "cell_type": "code",
   "execution_count": 2,
   "metadata": {},
   "outputs": [],
   "source": [
    "import pandas as pd\n",
    "import os\n",
    "from dotenv import load_dotenv\n",
    "import requests\n",
    "import json\n",
    "import quandl\n",
    "%matplotlib inline"
   ]
  },
  {
   "cell_type": "code",
   "execution_count": 3,
   "metadata": {},
   "outputs": [
    {
     "data": {
      "text/plain": [
       "True"
      ]
     },
     "execution_count": 3,
     "metadata": {},
     "output_type": "execute_result"
    }
   ],
   "source": [
    "load_dotenv()"
   ]
  },
  {
   "cell_type": "code",
   "execution_count": 4,
   "metadata": {},
   "outputs": [],
   "source": [
    "quandl.ApiConfig.api_key = os.getenv('QUANDL_API_KEY')\n"
   ]
  },
  {
   "cell_type": "code",
   "execution_count": 5,
   "metadata": {},
   "outputs": [],
   "source": [
    "data = quandl.get(\"EIA/NG_RNGWHHD_D\", start_date='2020-10-31')"
   ]
  },
  {
   "cell_type": "code",
   "execution_count": 6,
   "metadata": {},
   "outputs": [],
   "source": [
    "queries = {\n",
    "    'Commodity':[\n",
    "        'Cushing, OK WTI Spot Price FOB, Daily',\n",
    "        'New York Harbor Reformulated RBOB Regular Gasoline Future Contract 1, Daily',\n",
    "        'New York Harbor Ultra-Low Sulfur No 2 Diesel Spot Price, Daily',\n",
    "        'Henry Hub Natural Gas Spot Price, Daily',\n",
    "        'Gold Price: London Fixing',\n",
    "        'Silver Price: London Fixing'\n",
    "    ],\n",
    "    \n",
    "    'Data Link Code':[\n",
    "        'EIA/PET_RWTC_D',\n",
    "        'EIA/PET_EER_EPMRR_PE1_Y35NY_DPG_D',\n",
    "        'EIA/PET_EER_EPD2DXL0_PF4_Y35NY_DPG_D',\n",
    "        'EIA/NG_RNGWHHD_D',\n",
    "        'LBMA/GOLD',\n",
    "        'LBMA/SILVER'\n",
    "    ]\n",
    "}"
   ]
  },
  {
   "cell_type": "code",
   "execution_count": 7,
   "metadata": {},
   "outputs": [],
   "source": [
    "queries_df = pd.DataFrame(queries)"
   ]
  },
  {
   "cell_type": "code",
   "execution_count": 8,
   "metadata": {},
   "outputs": [
    {
     "data": {
      "text/html": [
       "<div>\n",
       "<style scoped>\n",
       "    .dataframe tbody tr th:only-of-type {\n",
       "        vertical-align: middle;\n",
       "    }\n",
       "\n",
       "    .dataframe tbody tr th {\n",
       "        vertical-align: top;\n",
       "    }\n",
       "\n",
       "    .dataframe thead th {\n",
       "        text-align: right;\n",
       "    }\n",
       "</style>\n",
       "<table border=\"1\" class=\"dataframe\">\n",
       "  <thead>\n",
       "    <tr style=\"text-align: right;\">\n",
       "      <th></th>\n",
       "      <th>Commodity</th>\n",
       "      <th>Data Link Code</th>\n",
       "    </tr>\n",
       "  </thead>\n",
       "  <tbody>\n",
       "    <tr>\n",
       "      <th>0</th>\n",
       "      <td>Cushing, OK WTI Spot Price FOB, Daily</td>\n",
       "      <td>EIA/PET_RWTC_D</td>\n",
       "    </tr>\n",
       "    <tr>\n",
       "      <th>1</th>\n",
       "      <td>New York Harbor Reformulated RBOB Regular Gaso...</td>\n",
       "      <td>EIA/PET_EER_EPMRR_PE1_Y35NY_DPG_D</td>\n",
       "    </tr>\n",
       "    <tr>\n",
       "      <th>2</th>\n",
       "      <td>New York Harbor Ultra-Low Sulfur No 2 Diesel S...</td>\n",
       "      <td>EIA/PET_EER_EPD2DXL0_PF4_Y35NY_DPG_D</td>\n",
       "    </tr>\n",
       "    <tr>\n",
       "      <th>3</th>\n",
       "      <td>Henry Hub Natural Gas Spot Price, Daily</td>\n",
       "      <td>EIA/NG_RNGWHHD_D</td>\n",
       "    </tr>\n",
       "    <tr>\n",
       "      <th>4</th>\n",
       "      <td>Gold Price: London Fixing</td>\n",
       "      <td>LBMA/GOLD</td>\n",
       "    </tr>\n",
       "    <tr>\n",
       "      <th>5</th>\n",
       "      <td>Silver Price: London Fixing</td>\n",
       "      <td>LBMA/SILVER</td>\n",
       "    </tr>\n",
       "  </tbody>\n",
       "</table>\n",
       "</div>"
      ],
      "text/plain": [
       "                                           Commodity  \\\n",
       "0              Cushing, OK WTI Spot Price FOB, Daily   \n",
       "1  New York Harbor Reformulated RBOB Regular Gaso...   \n",
       "2  New York Harbor Ultra-Low Sulfur No 2 Diesel S...   \n",
       "3            Henry Hub Natural Gas Spot Price, Daily   \n",
       "4                          Gold Price: London Fixing   \n",
       "5                        Silver Price: London Fixing   \n",
       "\n",
       "                         Data Link Code  \n",
       "0                        EIA/PET_RWTC_D  \n",
       "1     EIA/PET_EER_EPMRR_PE1_Y35NY_DPG_D  \n",
       "2  EIA/PET_EER_EPD2DXL0_PF4_Y35NY_DPG_D  \n",
       "3                      EIA/NG_RNGWHHD_D  \n",
       "4                             LBMA/GOLD  \n",
       "5                           LBMA/SILVER  "
      ]
     },
     "execution_count": 8,
     "metadata": {},
     "output_type": "execute_result"
    }
   ],
   "source": [
    "queries_df"
   ]
  },
  {
   "cell_type": "code",
   "execution_count": 9,
   "metadata": {},
   "outputs": [],
   "source": [
    "commodities = [queries_df['Data Link Code']]"
   ]
  },
  {
   "cell_type": "code",
   "execution_count": 10,
   "metadata": {},
   "outputs": [
    {
     "data": {
      "text/plain": [
       "[0                          EIA/PET_RWTC_D\n",
       " 1       EIA/PET_EER_EPMRR_PE1_Y35NY_DPG_D\n",
       " 2    EIA/PET_EER_EPD2DXL0_PF4_Y35NY_DPG_D\n",
       " 3                        EIA/NG_RNGWHHD_D\n",
       " 4                               LBMA/GOLD\n",
       " 5                             LBMA/SILVER\n",
       " Name: Data Link Code, dtype: object]"
      ]
     },
     "execution_count": 10,
     "metadata": {},
     "output_type": "execute_result"
    }
   ],
   "source": [
    "commodities "
   ]
  },
  {
   "cell_type": "code",
   "execution_count": 11,
   "metadata": {},
   "outputs": [],
   "source": [
    "oil = quandl.get('EIA/PET_RWTC_D', start_date='2020-10-31')\n",
    "oil = oil.rename(columns={'Value': 'oil'})"
   ]
  },
  {
   "cell_type": "code",
   "execution_count": 12,
   "metadata": {},
   "outputs": [],
   "source": [
    "gasoline = quandl.get('EIA/PET_EER_EPMRR_PE1_Y35NY_DPG_D', start_date='2020-10-31')\n",
    "gasoline = gasoline.rename(columns={'Value': 'gasoline'})"
   ]
  },
  {
   "cell_type": "code",
   "execution_count": 13,
   "metadata": {},
   "outputs": [],
   "source": [
    "diesel = quandl.get('EIA/PET_EER_EPD2DXL0_PF4_Y35NY_DPG_D', start_date='2020-10-31')\n",
    "diesel = diesel.rename(columns={'Value': 'diesel'})"
   ]
  },
  {
   "cell_type": "code",
   "execution_count": 14,
   "metadata": {},
   "outputs": [],
   "source": [
    "ng = quandl.get('EIA/NG_RNGWHHD_D', start_date='2020-10-31')\n",
    "ng = ng.rename(columns={'Value': 'ng'})"
   ]
  },
  {
   "cell_type": "code",
   "execution_count": 15,
   "metadata": {},
   "outputs": [],
   "source": [
    "gold = quandl.get('LBMA/GOLD', start_date='2020-10-31')\n",
    "gold = gold.rename(columns={'USD (PM)': 'gold'})"
   ]
  },
  {
   "cell_type": "code",
   "execution_count": 16,
   "metadata": {},
   "outputs": [],
   "source": [
    "silver = quandl.get('LBMA/SILVER', start_date='2020-10-31')\n",
    "silver = silver.rename(columns={'USD': 'silver'})\n"
   ]
  },
  {
   "cell_type": "code",
   "execution_count": 17,
   "metadata": {},
   "outputs": [],
   "source": [
    "closing_prices_df = pd.DataFrame()"
   ]
  },
  {
   "cell_type": "code",
   "execution_count": 18,
   "metadata": {},
   "outputs": [],
   "source": [
    "closing_prices_df = pd.concat([oil, gasoline, diesel, ng, gold, silver], axis=1)\n",
    "closing_prices_df = closing_prices_df.drop(columns=['USD (AM)', 'GBP (AM)', 'EURO (AM)', 'EURO (PM)', 'GBP (PM)', 'GBP', 'EURO'])"
   ]
  },
  {
   "cell_type": "code",
   "execution_count": 19,
   "metadata": {},
   "outputs": [],
   "source": [
    "closing_prices_df_csv_data = closing_prices_df.to_csv('data/rawdata/commodity_prices.csv')"
   ]
  },
  {
   "cell_type": "code",
   "execution_count": 20,
   "metadata": {},
   "outputs": [
    {
     "data": {
      "text/html": [
       "<div>\n",
       "<style scoped>\n",
       "    .dataframe tbody tr th:only-of-type {\n",
       "        vertical-align: middle;\n",
       "    }\n",
       "\n",
       "    .dataframe tbody tr th {\n",
       "        vertical-align: top;\n",
       "    }\n",
       "\n",
       "    .dataframe thead th {\n",
       "        text-align: right;\n",
       "    }\n",
       "</style>\n",
       "<table border=\"1\" class=\"dataframe\">\n",
       "  <thead>\n",
       "    <tr style=\"text-align: right;\">\n",
       "      <th></th>\n",
       "      <th>oil</th>\n",
       "      <th>gasoline</th>\n",
       "      <th>diesel</th>\n",
       "      <th>ng</th>\n",
       "      <th>gold</th>\n",
       "      <th>silver</th>\n",
       "    </tr>\n",
       "    <tr>\n",
       "      <th>Date</th>\n",
       "      <th></th>\n",
       "      <th></th>\n",
       "      <th></th>\n",
       "      <th></th>\n",
       "      <th></th>\n",
       "      <th></th>\n",
       "    </tr>\n",
       "  </thead>\n",
       "  <tbody>\n",
       "    <tr>\n",
       "      <th>2020-11-02</th>\n",
       "      <td>36.60</td>\n",
       "      <td>1.052</td>\n",
       "      <td>1.113</td>\n",
       "      <td>3.03</td>\n",
       "      <td>1889.90</td>\n",
       "      <td>23.975</td>\n",
       "    </tr>\n",
       "    <tr>\n",
       "      <th>2020-11-03</th>\n",
       "      <td>37.44</td>\n",
       "      <td>1.077</td>\n",
       "      <td>1.132</td>\n",
       "      <td>2.88</td>\n",
       "      <td>1908.30</td>\n",
       "      <td>24.170</td>\n",
       "    </tr>\n",
       "    <tr>\n",
       "      <th>2020-11-04</th>\n",
       "      <td>38.97</td>\n",
       "      <td>1.108</td>\n",
       "      <td>1.167</td>\n",
       "      <td>2.63</td>\n",
       "      <td>1900.15</td>\n",
       "      <td>23.975</td>\n",
       "    </tr>\n",
       "    <tr>\n",
       "      <th>2020-11-05</th>\n",
       "      <td>38.56</td>\n",
       "      <td>1.116</td>\n",
       "      <td>1.162</td>\n",
       "      <td>2.69</td>\n",
       "      <td>1938.45</td>\n",
       "      <td>24.570</td>\n",
       "    </tr>\n",
       "    <tr>\n",
       "      <th>2020-11-06</th>\n",
       "      <td>36.97</td>\n",
       "      <td>1.084</td>\n",
       "      <td>1.145</td>\n",
       "      <td>2.67</td>\n",
       "      <td>1940.80</td>\n",
       "      <td>25.780</td>\n",
       "    </tr>\n",
       "    <tr>\n",
       "      <th>...</th>\n",
       "      <td>...</td>\n",
       "      <td>...</td>\n",
       "      <td>...</td>\n",
       "      <td>...</td>\n",
       "      <td>...</td>\n",
       "      <td>...</td>\n",
       "    </tr>\n",
       "    <tr>\n",
       "      <th>2021-11-02</th>\n",
       "      <td>83.91</td>\n",
       "      <td>2.450</td>\n",
       "      <td>2.510</td>\n",
       "      <td>5.33</td>\n",
       "      <td>1790.45</td>\n",
       "      <td>23.865</td>\n",
       "    </tr>\n",
       "    <tr>\n",
       "      <th>2021-11-03</th>\n",
       "      <td>NaN</td>\n",
       "      <td>NaN</td>\n",
       "      <td>NaN</td>\n",
       "      <td>NaN</td>\n",
       "      <td>1763.45</td>\n",
       "      <td>23.580</td>\n",
       "    </tr>\n",
       "    <tr>\n",
       "      <th>2021-11-04</th>\n",
       "      <td>NaN</td>\n",
       "      <td>NaN</td>\n",
       "      <td>NaN</td>\n",
       "      <td>NaN</td>\n",
       "      <td>1796.15</td>\n",
       "      <td>23.730</td>\n",
       "    </tr>\n",
       "    <tr>\n",
       "      <th>2021-11-05</th>\n",
       "      <td>NaN</td>\n",
       "      <td>NaN</td>\n",
       "      <td>NaN</td>\n",
       "      <td>NaN</td>\n",
       "      <td>1801.85</td>\n",
       "      <td>23.820</td>\n",
       "    </tr>\n",
       "    <tr>\n",
       "      <th>2021-11-08</th>\n",
       "      <td>NaN</td>\n",
       "      <td>NaN</td>\n",
       "      <td>NaN</td>\n",
       "      <td>NaN</td>\n",
       "      <td>1822.35</td>\n",
       "      <td>24.280</td>\n",
       "    </tr>\n",
       "  </tbody>\n",
       "</table>\n",
       "<p>263 rows × 6 columns</p>\n",
       "</div>"
      ],
      "text/plain": [
       "              oil  gasoline  diesel    ng     gold  silver\n",
       "Date                                                      \n",
       "2020-11-02  36.60     1.052   1.113  3.03  1889.90  23.975\n",
       "2020-11-03  37.44     1.077   1.132  2.88  1908.30  24.170\n",
       "2020-11-04  38.97     1.108   1.167  2.63  1900.15  23.975\n",
       "2020-11-05  38.56     1.116   1.162  2.69  1938.45  24.570\n",
       "2020-11-06  36.97     1.084   1.145  2.67  1940.80  25.780\n",
       "...           ...       ...     ...   ...      ...     ...\n",
       "2021-11-02  83.91     2.450   2.510  5.33  1790.45  23.865\n",
       "2021-11-03    NaN       NaN     NaN   NaN  1763.45  23.580\n",
       "2021-11-04    NaN       NaN     NaN   NaN  1796.15  23.730\n",
       "2021-11-05    NaN       NaN     NaN   NaN  1801.85  23.820\n",
       "2021-11-08    NaN       NaN     NaN   NaN  1822.35  24.280\n",
       "\n",
       "[263 rows x 6 columns]"
      ]
     },
     "execution_count": 20,
     "metadata": {},
     "output_type": "execute_result"
    }
   ],
   "source": [
    "closing_prices_df"
   ]
  },
  {
   "cell_type": "code",
   "execution_count": null,
   "metadata": {},
   "outputs": [],
   "source": []
  },
  {
   "cell_type": "code",
   "execution_count": null,
   "metadata": {},
   "outputs": [],
   "source": []
  }
 ],
 "metadata": {
  "kernelspec": {
   "display_name": "Python 3",
   "language": "python",
   "name": "python3"
  },
  "language_info": {
   "codemirror_mode": {
    "name": "ipython",
    "version": 3
   },
   "file_extension": ".py",
   "mimetype": "text/x-python",
   "name": "python",
   "nbconvert_exporter": "python",
   "pygments_lexer": "ipython3",
   "version": "3.7.4"
  }
 },
 "nbformat": 4,
 "nbformat_minor": 5
}
