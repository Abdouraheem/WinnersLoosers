{
 "cells": [
  {
   "cell_type": "code",
   "execution_count": 2,
   "id": "9fa84279-15c3-4649-bbe7-97977d013d06",
   "metadata": {},
   "outputs": [],
   "source": [
    "import pandas as pd\n",
    "import os\n",
    "from dotenv import load_dotenv\n",
    "import requests\n",
    "import json\n",
    "import quandl\n",
    "%matplotlib inline"
   ]
  },
  {
   "cell_type": "code",
   "execution_count": 3,
   "id": "60b930d4-4102-4077-a110-938e77c70b58",
   "metadata": {},
   "outputs": [
    {
     "data": {
      "text/plain": [
       "True"
      ]
     },
     "execution_count": 3,
     "metadata": {},
     "output_type": "execute_result"
    }
   ],
   "source": [
    "load_dotenv()"
   ]
  },
  {
   "cell_type": "code",
   "execution_count": 5,
   "id": "309bd73c-31e8-4708-9aa5-db9154c368ab",
   "metadata": {},
   "outputs": [
    {
     "data": {
      "text/plain": [
       "str"
      ]
     },
     "execution_count": 5,
     "metadata": {},
     "output_type": "execute_result"
    }
   ],
   "source": [
    "quandl.ApiConfig.api_key = os.getenv('QUANDL_API_KEY')\n",
    "type(quandl_api_key)"
   ]
  },
  {
   "cell_type": "code",
   "execution_count": 37,
   "id": "8f5092d9-9f98-4e4d-b748-bae85208edc8",
   "metadata": {},
   "outputs": [],
   "source": [
    "data = quandl.get(\"EIA/NG_RNGWHHD_D\", start_date='2020-10-31')"
   ]
  },
  {
   "cell_type": "code",
   "execution_count": 45,
   "id": "8a9651a9-d128-4169-af66-0fbd94abb62a",
   "metadata": {},
   "outputs": [],
   "source": [
    "queries = {\n",
    "    'Commodity':[\n",
    "        'Cushing, OK WTI Spot Price FOB, Daily',\n",
    "        'New York Harbor Reformulated RBOB Regular Gasoline Future Contract 1, Daily',\n",
    "        'New York Harbor Ultra-Low Sulfur No 2 Diesel Spot Price, Daily',\n",
    "        'Henry Hub Natural Gas Spot Price, Daily',\n",
    "        'Gold Price: London Fixing',\n",
    "        'Silver Price: London Fixing'\n",
    "    ],\n",
    "    \n",
    "    'Data Link Code':[\n",
    "        'EIA/PET_RWTC_D',\n",
    "        'EIA/PET_EER_EPMRR_PE1_Y35NY_DPG_D',\n",
    "        'EIA/PET_EER_EPD2DXL0_PF4_Y35NY_DPG_D',\n",
    "        'EIA/NG_RNGWHHD_D',\n",
    "        'LBMA/GOLD',\n",
    "        'LBMA/SILVER'\n",
    "    ]\n",
    "}"
   ]
  },
  {
   "cell_type": "code",
   "execution_count": 46,
   "id": "480abf32-d748-4ad5-8d90-a0ebd4b9fac0",
   "metadata": {},
   "outputs": [],
   "source": [
    "queries_df = pd.DataFrame(queries)"
   ]
  },
  {
   "cell_type": "code",
   "execution_count": 47,
   "id": "755e238b-394d-4a93-bb04-4434b53d8963",
   "metadata": {},
   "outputs": [
    {
     "data": {
      "text/html": [
       "<div>\n",
       "<style scoped>\n",
       "    .dataframe tbody tr th:only-of-type {\n",
       "        vertical-align: middle;\n",
       "    }\n",
       "\n",
       "    .dataframe tbody tr th {\n",
       "        vertical-align: top;\n",
       "    }\n",
       "\n",
       "    .dataframe thead th {\n",
       "        text-align: right;\n",
       "    }\n",
       "</style>\n",
       "<table border=\"1\" class=\"dataframe\">\n",
       "  <thead>\n",
       "    <tr style=\"text-align: right;\">\n",
       "      <th></th>\n",
       "      <th>Commodity</th>\n",
       "      <th>Data Link Code</th>\n",
       "    </tr>\n",
       "  </thead>\n",
       "  <tbody>\n",
       "    <tr>\n",
       "      <th>0</th>\n",
       "      <td>Cushing, OK WTI Spot Price FOB, Daily</td>\n",
       "      <td>EIA/PET_RWTC_D</td>\n",
       "    </tr>\n",
       "    <tr>\n",
       "      <th>1</th>\n",
       "      <td>New York Harbor Reformulated RBOB Regular Gaso...</td>\n",
       "      <td>EIA/PET_EER_EPMRR_PE1_Y35NY_DPG_D</td>\n",
       "    </tr>\n",
       "    <tr>\n",
       "      <th>2</th>\n",
       "      <td>New York Harbor Ultra-Low Sulfur No 2 Diesel S...</td>\n",
       "      <td>EIA/PET_EER_EPD2DXL0_PF4_Y35NY_DPG_D</td>\n",
       "    </tr>\n",
       "    <tr>\n",
       "      <th>3</th>\n",
       "      <td>Henry Hub Natural Gas Spot Price, Daily</td>\n",
       "      <td>EIA/NG_RNGWHHD_D</td>\n",
       "    </tr>\n",
       "  </tbody>\n",
       "</table>\n",
       "</div>"
      ],
      "text/plain": [
       "                                           Commodity  \\\n",
       "0              Cushing, OK WTI Spot Price FOB, Daily   \n",
       "1  New York Harbor Reformulated RBOB Regular Gaso...   \n",
       "2  New York Harbor Ultra-Low Sulfur No 2 Diesel S...   \n",
       "3            Henry Hub Natural Gas Spot Price, Daily   \n",
       "\n",
       "                         Data Link Code  \n",
       "0                        EIA/PET_RWTC_D  \n",
       "1     EIA/PET_EER_EPMRR_PE1_Y35NY_DPG_D  \n",
       "2  EIA/PET_EER_EPD2DXL0_PF4_Y35NY_DPG_D  \n",
       "3                      EIA/NG_RNGWHHD_D  "
      ]
     },
     "execution_count": 47,
     "metadata": {},
     "output_type": "execute_result"
    }
   ],
   "source": [
    "queries_df"
   ]
  },
  {
   "cell_type": "code",
   "execution_count": 41,
   "id": "4589b383-4a16-47b6-bf32-6e3e3ca90299",
   "metadata": {},
   "outputs": [
    {
     "data": {
      "text/html": [
       "<div>\n",
       "<style scoped>\n",
       "    .dataframe tbody tr th:only-of-type {\n",
       "        vertical-align: middle;\n",
       "    }\n",
       "\n",
       "    .dataframe tbody tr th {\n",
       "        vertical-align: top;\n",
       "    }\n",
       "\n",
       "    .dataframe thead th {\n",
       "        text-align: right;\n",
       "    }\n",
       "</style>\n",
       "<table border=\"1\" class=\"dataframe\">\n",
       "  <thead>\n",
       "    <tr style=\"text-align: right;\">\n",
       "      <th></th>\n",
       "      <th>Value</th>\n",
       "    </tr>\n",
       "    <tr>\n",
       "      <th>Date</th>\n",
       "      <th></th>\n",
       "    </tr>\n",
       "  </thead>\n",
       "  <tbody>\n",
       "    <tr>\n",
       "      <th>2020-11-02</th>\n",
       "      <td>3.03</td>\n",
       "    </tr>\n",
       "    <tr>\n",
       "      <th>2020-11-03</th>\n",
       "      <td>2.88</td>\n",
       "    </tr>\n",
       "    <tr>\n",
       "      <th>2020-11-04</th>\n",
       "      <td>2.63</td>\n",
       "    </tr>\n",
       "    <tr>\n",
       "      <th>2020-11-05</th>\n",
       "      <td>2.69</td>\n",
       "    </tr>\n",
       "    <tr>\n",
       "      <th>2020-11-06</th>\n",
       "      <td>2.67</td>\n",
       "    </tr>\n",
       "    <tr>\n",
       "      <th>...</th>\n",
       "      <td>...</td>\n",
       "    </tr>\n",
       "    <tr>\n",
       "      <th>2021-10-27</th>\n",
       "      <td>5.91</td>\n",
       "    </tr>\n",
       "    <tr>\n",
       "      <th>2021-10-28</th>\n",
       "      <td>5.68</td>\n",
       "    </tr>\n",
       "    <tr>\n",
       "      <th>2021-10-29</th>\n",
       "      <td>5.49</td>\n",
       "    </tr>\n",
       "    <tr>\n",
       "      <th>2021-11-01</th>\n",
       "      <td>5.22</td>\n",
       "    </tr>\n",
       "    <tr>\n",
       "      <th>2021-11-02</th>\n",
       "      <td>5.33</td>\n",
       "    </tr>\n",
       "  </tbody>\n",
       "</table>\n",
       "<p>253 rows × 1 columns</p>\n",
       "</div>"
      ],
      "text/plain": [
       "            Value\n",
       "Date             \n",
       "2020-11-02   3.03\n",
       "2020-11-03   2.88\n",
       "2020-11-04   2.63\n",
       "2020-11-05   2.69\n",
       "2020-11-06   2.67\n",
       "...           ...\n",
       "2021-10-27   5.91\n",
       "2021-10-28   5.68\n",
       "2021-10-29   5.49\n",
       "2021-11-01   5.22\n",
       "2021-11-02   5.33\n",
       "\n",
       "[253 rows x 1 columns]"
      ]
     },
     "execution_count": 41,
     "metadata": {},
     "output_type": "execute_result"
    }
   ],
   "source": [
    "data"
   ]
  },
  {
   "cell_type": "code",
   "execution_count": null,
   "id": "2b045eb7-57f7-438d-90dd-117a518ed705",
   "metadata": {},
   "outputs": [],
   "source": []
  }
 ],
 "metadata": {
  "kernelspec": {
   "display_name": "Python (dev)",
   "language": "python",
   "name": "dev"
  },
  "language_info": {
   "codemirror_mode": {
    "name": "ipython",
    "version": 3
   },
   "file_extension": ".py",
   "mimetype": "text/x-python",
   "name": "python",
   "nbconvert_exporter": "python",
   "pygments_lexer": "ipython3",
   "version": "3.7.10"
  }
 },
 "nbformat": 4,
 "nbformat_minor": 5
}
