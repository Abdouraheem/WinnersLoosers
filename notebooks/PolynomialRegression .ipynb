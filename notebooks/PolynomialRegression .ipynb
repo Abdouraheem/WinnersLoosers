{
 "cells": [
  {
   "cell_type": "code",
   "execution_count": 1,
   "id": "f53f79e5-6710-40e2-ae58-997297a7976b",
   "metadata": {},
   "outputs": [],
   "source": [
    "import matplotlib.pyplot as plt\n",
    "from sklearn.linear_model import LinearRegression\n",
    "import numpy as np\n",
    "from __future__ import division\n",
    "import pandas as pd\n",
    "import requests \n",
    "from dotenv import load_dotenv\n",
    "import os\n",
    "import json"
   ]
  },
  {
   "cell_type": "code",
   "execution_count": 2,
   "id": "4bc605a6-1f58-4286-a328-4aacc32dc13e",
   "metadata": {},
   "outputs": [
    {
     "data": {
      "text/plain": [
       "True"
      ]
     },
     "execution_count": 2,
     "metadata": {},
     "output_type": "execute_result"
    }
   ],
   "source": [
    "load_dotenv()"
   ]
  },
  {
   "cell_type": "code",
   "execution_count": 3,
   "id": "b3f6d570-93f7-42bf-ad2e-c0d1783c7d67",
   "metadata": {},
   "outputs": [],
   "source": [
    "quandl_api = os.getenv(\"quandl_api\")"
   ]
  },
  {
   "cell_type": "code",
   "execution_count": 4,
   "id": "ab4ffeeb-8a9c-48f4-93c0-ae1b5dcc6bf9",
   "metadata": {},
   "outputs": [
    {
     "data": {
      "text/plain": [
       "str"
      ]
     },
     "execution_count": 4,
     "metadata": {},
     "output_type": "execute_result"
    }
   ],
   "source": [
    "type(quandl_api)"
   ]
  },
  {
   "cell_type": "code",
   "execution_count": 5,
   "id": "bdf5f1b9-86e9-4dbc-8976-f9a01b929d2c",
   "metadata": {},
   "outputs": [
    {
     "data": {
      "text/plain": [
       "Date\n",
       "2017-01-03     77.79\n",
       "2017-01-04     79.26\n",
       "2017-01-05     76.81\n",
       "2017-01-06     77.16\n",
       "2017-01-09     76.84\n",
       "               ...  \n",
       "2017-12-22    102.84\n",
       "2017-12-26    105.20\n",
       "2017-12-27    105.24\n",
       "2017-12-28    104.22\n",
       "2017-12-29    103.95\n",
       "Name: Close, Length: 250, dtype: float64"
      ]
     },
     "execution_count": 5,
     "metadata": {},
     "output_type": "execute_result"
    }
   ],
   "source": [
    "import quandl\n",
    "y_tif_equity = quandl.get(\"WIKI/TIF\",start_date=\"2017-01-01\",end_date=\"2018-01-01\")[\"Close\"]\n",
    "y_tif_equity"
   ]
  },
  {
   "cell_type": "code",
   "execution_count": 6,
   "id": "2eebd415-e73a-4fae-91cd-44b2889d1af1",
   "metadata": {},
   "outputs": [],
   "source": [
    "gold = quandl.get('LBMA/GOLD', start_date=\"2017-01-01\",end_date=\"2018-01-01\")\n",
    "gold = gold.rename(columns={'USD (PM)': 'gold'})\n",
    "gold = gold[\"gold\"]\n"
   ]
  },
  {
   "cell_type": "code",
   "execution_count": 7,
   "id": "ed243b7c-85c8-4ceb-ae99-c52ec2f74ed0",
   "metadata": {},
   "outputs": [],
   "source": [
    "silver = quandl.get('LBMA/SILVER', start_date=\"2017-01-01\",end_date=\"2018-01-01\")\n",
    "silver = silver.rename(columns={'USD': 'silver'})[\"silver\"]\n"
   ]
  },
  {
   "cell_type": "code",
   "execution_count": 8,
   "id": "c2908832-4abf-4fb3-a0b5-bac0b4a1244a",
   "metadata": {},
   "outputs": [],
   "source": [
    "x_closing_prices_df = pd.DataFrame()\n",
    "x_closing_prices_df = pd.concat([gold, silver], axis=1)\n"
   ]
  },
  {
   "cell_type": "code",
   "execution_count": 9,
   "id": "18b084c8-a471-4ce0-85b1-292effeb96d1",
   "metadata": {},
   "outputs": [],
   "source": [
    "new_dataframe = x_closing_prices_df.merge(y_tif_equity,left_index=True, right_index=True)"
   ]
  },
  {
   "cell_type": "code",
   "execution_count": 10,
   "id": "95abab3b-889c-47ff-b377-02da7ffff35c",
   "metadata": {},
   "outputs": [],
   "source": [
    "new_dataframe.rename(columns={\"gold\":\"Gold\",\"silver\":\"Silver\",\"Close\":\"TIF Close\"},inplace=True)"
   ]
  },
  {
   "cell_type": "code",
   "execution_count": 11,
   "id": "6c1b8d5b-aa0f-4557-933b-c5820a6c856f",
   "metadata": {},
   "outputs": [],
   "source": [
    "new_dataframe.dropna(inplace=True)"
   ]
  },
  {
   "cell_type": "code",
   "execution_count": 12,
   "id": "647c3924-c028-4117-8010-d8f39c54eab3",
   "metadata": {},
   "outputs": [],
   "source": [
    "y = new_dataframe[\"TIF Close\"].values\n",
    "x = new_dataframe.drop(columns=\"TIF Close\").values"
   ]
  },
  {
   "cell_type": "code",
   "execution_count": 13,
   "id": "ecffe25d-7adc-4e17-b346-d5f5e7c106ff",
   "metadata": {},
   "outputs": [],
   "source": [
    "from sklearn.model_selection import train_test_split\n",
    "#splitting the data to train the model and using 30% of the data for training and 70% for actual data\n",
    "x_train, x_test, y_train, y_test = train_test_split(x,y,test_size=.3,random_state=0)"
   ]
  },
  {
   "cell_type": "code",
   "execution_count": 14,
   "id": "edd0003f-9340-4823-8a16-748646437684",
   "metadata": {},
   "outputs": [
    {
     "data": {
      "text/plain": [
       "LinearRegression()"
      ]
     },
     "execution_count": 14,
     "metadata": {},
     "output_type": "execute_result"
    }
   ],
   "source": [
    "from sklearn.linear_model import LinearRegression\n",
    "model = LinearRegression()\n",
    "model.fit(x_train,y_train)"
   ]
  },
  {
   "cell_type": "code",
   "execution_count": 15,
   "id": "cf5a5abb-d067-48d6-959b-df9383195ce2",
   "metadata": {},
   "outputs": [],
   "source": [
    "y_pred = model.predict(x_test)"
   ]
  },
  {
   "cell_type": "code",
   "execution_count": 16,
   "id": "2c44ab1e-07fa-4946-abe3-a02b929ac808",
   "metadata": {},
   "outputs": [
    {
     "data": {
      "text/plain": [
       "array([81.15663332])"
      ]
     },
     "execution_count": 16,
     "metadata": {},
     "output_type": "execute_result"
    }
   ],
   "source": [
    "model.predict([[1000,12]])"
   ]
  },
  {
   "cell_type": "code",
   "execution_count": 17,
   "id": "2c283df9-3206-4bdc-9a76-4a20a4610273",
   "metadata": {},
   "outputs": [],
   "source": [
    "from sklearn.metrics import r2_score\n",
    "r2_score = r2_score(y_test,y_pred)"
   ]
  },
  {
   "cell_type": "code",
   "execution_count": 18,
   "id": "914b6a5b-466f-4032-a7d0-03a7c9ba32f8",
   "metadata": {},
   "outputs": [
    {
     "data": {
      "text/plain": [
       "0.38535745862565896"
      ]
     },
     "execution_count": 18,
     "metadata": {},
     "output_type": "execute_result"
    }
   ],
   "source": [
    "r2_score"
   ]
  },
  {
   "cell_type": "code",
   "execution_count": 19,
   "id": "f2688ef1-8da6-4857-be38-e372e83de60e",
   "metadata": {},
   "outputs": [
    {
     "data": {
      "text/plain": [
       "Text(0, 0.5, 'Predicted Data')"
      ]
     },
     "execution_count": 19,
     "metadata": {},
     "output_type": "execute_result"
    },
    {
     "data": {
      "image/png": "[encoded data removed]",
      "text/plain": [
       "<Figure size 720x720 with 1 Axes>"
      ]
     },
     "metadata": {
      "needs_background": "light"
     },
     "output_type": "display_data"
    }
   ],
   "source": [
    "plt.figure(figsize=(10,10))\n",
    "plt.scatter(y_test,y_pred)\n",
    "plt.xlabel(\"Test Data\")\n",
    "plt.ylabel(\"Predicted Data\")"
   ]
  },
  {
   "cell_type": "code",
   "execution_count": 20,
   "id": "ca94cfd9-3d10-48e3-bfab-cd248d20de01",
   "metadata": {},
   "outputs": [],
   "source": [
    "from sklearn.preprocessing import PolynomialFeatures"
   ]
  },
  {
   "cell_type": "code",
   "execution_count": 42,
   "id": "cb32a317-34e4-4409-9f44-5985d32372ec",
   "metadata": {},
   "outputs": [],
   "source": [
    "poly = PolynomialFeatures(degree = 4)\n",
    "x_poly = poly.fit_transform(x)"
   ]
  },
  {
   "cell_type": "code",
   "execution_count": 43,
   "id": "39b6ec8e-3dec-4621-9b5b-41f501086edc",
   "metadata": {},
   "outputs": [
    {
     "data": {
      "text/plain": [
       "PolynomialFeatures(degree=4)"
      ]
     },
     "execution_count": 43,
     "metadata": {},
     "output_type": "execute_result"
    }
   ],
   "source": [
    "poly.fit(x_poly,y)"
   ]
  },
  {
   "cell_type": "code",
   "execution_count": 44,
   "id": "8772032b-4bfb-4748-88b9-19bc5f136efe",
   "metadata": {},
   "outputs": [],
   "source": [
    "lin2 = LinearRegression()"
   ]
  },
  {
   "cell_type": "code",
   "execution_count": 45,
   "id": "f335f40d-d79b-4ff6-8686-ceed89a269ff",
   "metadata": {},
   "outputs": [
    {
     "data": {
      "text/plain": [
       "LinearRegression()"
      ]
     },
     "execution_count": 45,
     "metadata": {},
     "output_type": "execute_result"
    }
   ],
   "source": [
    "lin2.fit(x_poly,y)"
   ]
  },
  {
   "cell_type": "code",
   "execution_count": 46,
   "id": "86570785-e483-4dfc-aac0-6674a45a7404",
   "metadata": {},
   "outputs": [
    {
     "data": {
      "text/plain": [
       "array([81.15663332])"
      ]
     },
     "execution_count": 46,
     "metadata": {},
     "output_type": "execute_result"
    }
   ],
   "source": [
    "model.predict([[1000,12]])"
   ]
  },
  {
   "cell_type": "code",
   "execution_count": 47,
   "id": "eebfff6c-ed21-4065-884b-60e1069d3220",
   "metadata": {},
   "outputs": [
    {
     "data": {
      "text/plain": [
       "array([200.15651833])"
      ]
     },
     "execution_count": 47,
     "metadata": {},
     "output_type": "execute_result"
    }
   ],
   "source": [
    "lin2.predict(poly.fit_transform([[1000,12]]))"
   ]
  },
  {
   "cell_type": "code",
   "execution_count": 48,
   "id": "051ca288-97c4-4adc-a8c4-b13201142c42",
   "metadata": {},
   "outputs": [],
   "source": [
    "y_prev = new_dataframe[\"TIF Close\"]\n",
    "x_prev = new_dataframe.drop(columns=\"TIF Close\")"
   ]
  },
  {
   "cell_type": "code",
   "execution_count": 49,
   "id": "8a02d5fe-1034-4df3-b019-922bb1c9d8ce",
   "metadata": {},
   "outputs": [
    {
     "data": {
      "text/html": [
       "<div>\n",
       "<style scoped>\n",
       "    .dataframe tbody tr th:only-of-type {\n",
       "        vertical-align: middle;\n",
       "    }\n",
       "\n",
       "    .dataframe tbody tr th {\n",
       "        vertical-align: top;\n",
       "    }\n",
       "\n",
       "    .dataframe thead th {\n",
       "        text-align: right;\n",
       "    }\n",
       "</style>\n",
       "<table border=\"1\" class=\"dataframe\">\n",
       "  <thead>\n",
       "    <tr style=\"text-align: right;\">\n",
       "      <th></th>\n",
       "      <th>Gold</th>\n",
       "      <th>Silver</th>\n",
       "      <th>TIF Close</th>\n",
       "    </tr>\n",
       "    <tr>\n",
       "      <th>Date</th>\n",
       "      <th></th>\n",
       "      <th></th>\n",
       "      <th></th>\n",
       "    </tr>\n",
       "  </thead>\n",
       "  <tbody>\n",
       "    <tr>\n",
       "      <th>2017-01-03</th>\n",
       "      <td>1151.00</td>\n",
       "      <td>15.950</td>\n",
       "      <td>77.79</td>\n",
       "    </tr>\n",
       "    <tr>\n",
       "      <th>2017-01-04</th>\n",
       "      <td>1164.25</td>\n",
       "      <td>16.420</td>\n",
       "      <td>79.26</td>\n",
       "    </tr>\n",
       "    <tr>\n",
       "      <th>2017-01-05</th>\n",
       "      <td>1176.70</td>\n",
       "      <td>16.590</td>\n",
       "      <td>76.81</td>\n",
       "    </tr>\n",
       "    <tr>\n",
       "      <th>2017-01-06</th>\n",
       "      <td>1175.85</td>\n",
       "      <td>16.450</td>\n",
       "      <td>77.16</td>\n",
       "    </tr>\n",
       "    <tr>\n",
       "      <th>2017-01-09</th>\n",
       "      <td>1178.50</td>\n",
       "      <td>16.520</td>\n",
       "      <td>76.84</td>\n",
       "    </tr>\n",
       "    <tr>\n",
       "      <th>...</th>\n",
       "      <td>...</td>\n",
       "      <td>...</td>\n",
       "      <td>...</td>\n",
       "    </tr>\n",
       "    <tr>\n",
       "      <th>2017-12-19</th>\n",
       "      <td>1260.35</td>\n",
       "      <td>16.155</td>\n",
       "      <td>100.42</td>\n",
       "    </tr>\n",
       "    <tr>\n",
       "      <th>2017-12-20</th>\n",
       "      <td>1264.55</td>\n",
       "      <td>16.185</td>\n",
       "      <td>100.05</td>\n",
       "    </tr>\n",
       "    <tr>\n",
       "      <th>2017-12-21</th>\n",
       "      <td>1264.55</td>\n",
       "      <td>16.145</td>\n",
       "      <td>102.46</td>\n",
       "    </tr>\n",
       "    <tr>\n",
       "      <th>2017-12-27</th>\n",
       "      <td>1279.40</td>\n",
       "      <td>16.500</td>\n",
       "      <td>105.24</td>\n",
       "    </tr>\n",
       "    <tr>\n",
       "      <th>2017-12-28</th>\n",
       "      <td>1291.00</td>\n",
       "      <td>16.740</td>\n",
       "      <td>104.22</td>\n",
       "    </tr>\n",
       "  </tbody>\n",
       "</table>\n",
       "<p>244 rows × 3 columns</p>\n",
       "</div>"
      ],
      "text/plain": [
       "               Gold  Silver  TIF Close\n",
       "Date                                  \n",
       "2017-01-03  1151.00  15.950      77.79\n",
       "2017-01-04  1164.25  16.420      79.26\n",
       "2017-01-05  1176.70  16.590      76.81\n",
       "2017-01-06  1175.85  16.450      77.16\n",
       "2017-01-09  1178.50  16.520      76.84\n",
       "...             ...     ...        ...\n",
       "2017-12-19  1260.35  16.155     100.42\n",
       "2017-12-20  1264.55  16.185     100.05\n",
       "2017-12-21  1264.55  16.145     102.46\n",
       "2017-12-27  1279.40  16.500     105.24\n",
       "2017-12-28  1291.00  16.740     104.22\n",
       "\n",
       "[244 rows x 3 columns]"
      ]
     },
     "execution_count": 49,
     "metadata": {},
     "output_type": "execute_result"
    }
   ],
   "source": [
    "x_prev.join(y_prev)"
   ]
  },
  {
   "cell_type": "code",
   "execution_count": 50,
   "id": "b9563852-8ea1-4e98-9b90-2dbf3b747504",
   "metadata": {},
   "outputs": [
    {
     "data": {
      "text/plain": [
       "array([78.7840648])"
      ]
     },
     "execution_count": 50,
     "metadata": {},
     "output_type": "execute_result"
    }
   ],
   "source": [
    "lin2.predict(poly.fit_transform([[1150,16]]))\n",
    "             "
   ]
  },
  {
   "cell_type": "code",
   "execution_count": 53,
   "id": "2677428d-39de-496c-90b1-bf09adcf0680",
   "metadata": {},
   "outputs": [],
   "source": [
    "import statsmodels.api as sm"
   ]
  },
  {
   "cell_type": "code",
   "execution_count": 74,
   "id": "3ec3713d-4a93-40ea-a510-0275c24794aa",
   "metadata": {},
   "outputs": [],
   "source": [
    "mod_poly_2 = sm.OLS(y,x_poly).fit()"
   ]
  },
  {
   "cell_type": "code",
   "execution_count": 75,
   "id": "0778a991-9d6f-4b9a-8d01-57cc92907934",
   "metadata": {},
   "outputs": [],
   "source": [
    "mod_lin_1 = sm.OLS(x_train,y_train).fit()"
   ]
  },
  {
   "cell_type": "code",
   "execution_count": 78,
   "id": "5bed26c7-2704-447b-ba6e-27a1a88b6f4f",
   "metadata": {},
   "outputs": [
    {
     "ename": "ValueError",
     "evalue": "shapes (170,2) and (170,2) not aligned: 2 (dim 1) != 170 (dim 0)",
     "output_type": "error",
     "traceback": [
      "\u001b[0;31m---------------------------------------------------------------------------\u001b[0m",
      "\u001b[0;31mValueError\u001b[0m                                Traceback (most recent call last)",
      "\u001b[0;32m/var/folders/pb/x5s360qx62s5g4bqn_f1_y0r0000gn/T/ipykernel_31185/330948897.py\u001b[0m in \u001b[0;36m<module>\u001b[0;34m\u001b[0m\n\u001b[0;32m----> 1\u001b[0;31m \u001b[0mmod_lin_1\u001b[0m\u001b[0;34m.\u001b[0m\u001b[0msummary\u001b[0m\u001b[0;34m(\u001b[0m\u001b[0;34m)\u001b[0m\u001b[0;34m\u001b[0m\u001b[0;34m\u001b[0m\u001b[0m\n\u001b[0m",
      "\u001b[0;32m~/opt/anaconda3/envs/Project_1_Bootcamp/lib/python3.9/site-packages/statsmodels/regression/linear_model.py\u001b[0m in \u001b[0;36msummary\u001b[0;34m(self, yname, xname, title, alpha, slim)\u001b[0m\n\u001b[1;32m   2708\u001b[0m         \u001b[0mrsquared_type\u001b[0m \u001b[0;34m=\u001b[0m \u001b[0;34m''\u001b[0m \u001b[0;32mif\u001b[0m \u001b[0mself\u001b[0m\u001b[0;34m.\u001b[0m\u001b[0mk_constant\u001b[0m \u001b[0;32melse\u001b[0m \u001b[0;34m' (uncentered)'\u001b[0m\u001b[0;34m\u001b[0m\u001b[0;34m\u001b[0m\u001b[0m\n\u001b[1;32m   2709\u001b[0m         top_right = [('R-squared' + rsquared_type + ':',\n\u001b[0;32m-> 2710\u001b[0;31m                       [\"%#8.3f\" % self.rsquared]),\n\u001b[0m\u001b[1;32m   2711\u001b[0m                      ('Adj. R-squared' + rsquared_type + ':',\n\u001b[1;32m   2712\u001b[0m                       [\"%#8.3f\" % self.rsquared_adj]),\n",
      "\u001b[0;32m~/opt/anaconda3/envs/Project_1_Bootcamp/lib/python3.9/site-packages/pandas/_libs/properties.pyx\u001b[0m in \u001b[0;36mpandas._libs.properties.CachedProperty.__get__\u001b[0;34m()\u001b[0m\n",
      "\u001b[0;32m~/opt/anaconda3/envs/Project_1_Bootcamp/lib/python3.9/site-packages/statsmodels/regression/linear_model.py\u001b[0m in \u001b[0;36mrsquared\u001b[0;34m(self)\u001b[0m\n\u001b[1;32m   1738\u001b[0m             \u001b[0;32mreturn\u001b[0m \u001b[0;36m1\u001b[0m \u001b[0;34m-\u001b[0m \u001b[0mself\u001b[0m\u001b[0;34m.\u001b[0m\u001b[0mssr\u001b[0m\u001b[0;34m/\u001b[0m\u001b[0mself\u001b[0m\u001b[0;34m.\u001b[0m\u001b[0mcentered_tss\u001b[0m\u001b[0;34m\u001b[0m\u001b[0;34m\u001b[0m\u001b[0m\n\u001b[1;32m   1739\u001b[0m         \u001b[0;32melse\u001b[0m\u001b[0;34m:\u001b[0m\u001b[0;34m\u001b[0m\u001b[0;34m\u001b[0m\u001b[0m\n\u001b[0;32m-> 1740\u001b[0;31m             \u001b[0;32mreturn\u001b[0m \u001b[0;36m1\u001b[0m \u001b[0;34m-\u001b[0m \u001b[0mself\u001b[0m\u001b[0;34m.\u001b[0m\u001b[0mssr\u001b[0m\u001b[0;34m/\u001b[0m\u001b[0mself\u001b[0m\u001b[0;34m.\u001b[0m\u001b[0muncentered_tss\u001b[0m\u001b[0;34m\u001b[0m\u001b[0;34m\u001b[0m\u001b[0m\n\u001b[0m\u001b[1;32m   1741\u001b[0m \u001b[0;34m\u001b[0m\u001b[0m\n\u001b[1;32m   1742\u001b[0m     \u001b[0;34m@\u001b[0m\u001b[0mcache_readonly\u001b[0m\u001b[0;34m\u001b[0m\u001b[0;34m\u001b[0m\u001b[0m\n",
      "\u001b[0;32m~/opt/anaconda3/envs/Project_1_Bootcamp/lib/python3.9/site-packages/pandas/_libs/properties.pyx\u001b[0m in \u001b[0;36mpandas._libs.properties.CachedProperty.__get__\u001b[0;34m()\u001b[0m\n",
      "\u001b[0;32m~/opt/anaconda3/envs/Project_1_Bootcamp/lib/python3.9/site-packages/statsmodels/regression/linear_model.py\u001b[0m in \u001b[0;36mssr\u001b[0;34m(self)\u001b[0m\n\u001b[1;32m   1677\u001b[0m         \u001b[0;34m\"\"\"Sum of squared (whitened) residuals.\"\"\"\u001b[0m\u001b[0;34m\u001b[0m\u001b[0;34m\u001b[0m\u001b[0m\n\u001b[1;32m   1678\u001b[0m         \u001b[0mwresid\u001b[0m \u001b[0;34m=\u001b[0m \u001b[0mself\u001b[0m\u001b[0;34m.\u001b[0m\u001b[0mwresid\u001b[0m\u001b[0;34m\u001b[0m\u001b[0;34m\u001b[0m\u001b[0m\n\u001b[0;32m-> 1679\u001b[0;31m         \u001b[0;32mreturn\u001b[0m \u001b[0mnp\u001b[0m\u001b[0;34m.\u001b[0m\u001b[0mdot\u001b[0m\u001b[0;34m(\u001b[0m\u001b[0mwresid\u001b[0m\u001b[0;34m,\u001b[0m \u001b[0mwresid\u001b[0m\u001b[0;34m)\u001b[0m\u001b[0;34m\u001b[0m\u001b[0;34m\u001b[0m\u001b[0m\n\u001b[0m\u001b[1;32m   1680\u001b[0m \u001b[0;34m\u001b[0m\u001b[0m\n\u001b[1;32m   1681\u001b[0m     \u001b[0;34m@\u001b[0m\u001b[0mcache_readonly\u001b[0m\u001b[0;34m\u001b[0m\u001b[0;34m\u001b[0m\u001b[0m\n",
      "\u001b[0;32m<__array_function__ internals>\u001b[0m in \u001b[0;36mdot\u001b[0;34m(*args, **kwargs)\u001b[0m\n",
      "\u001b[0;31mValueError\u001b[0m: shapes (170,2) and (170,2) not aligned: 2 (dim 1) != 170 (dim 0)"
     ]
    }
   ],
   "source": [
    "mod_lin_1.summary()"
   ]
  },
  {
   "cell_type": "code",
   "execution_count": 79,
   "id": "b3cc91a6-338f-4939-ac4b-dcd1cd793a7b",
   "metadata": {},
   "outputs": [
    {
     "data": {
      "text/html": [
       "<table class=\"simpletable\">\n",
       "<caption>OLS Regression Results</caption>\n",
       "<tr>\n",
       "  <th>Dep. Variable:</th>            <td>y</td>        <th>  R-squared:         </th> <td>   0.634</td>\n",
       "</tr>\n",
       "<tr>\n",
       "  <th>Model:</th>                   <td>OLS</td>       <th>  Adj. R-squared:    </th> <td>   0.618</td>\n",
       "</tr>\n",
       "<tr>\n",
       "  <th>Method:</th>             <td>Least Squares</td>  <th>  F-statistic:       </th> <td>   40.30</td>\n",
       "</tr>\n",
       "<tr>\n",
       "  <th>Date:</th>             <td>Wed, 10 Nov 2021</td> <th>  Prob (F-statistic):</th> <td>2.15e-45</td>\n",
       "</tr>\n",
       "<tr>\n",
       "  <th>Time:</th>                 <td>14:12:30</td>     <th>  Log-Likelihood:    </th> <td> -628.78</td>\n",
       "</tr>\n",
       "<tr>\n",
       "  <th>No. Observations:</th>      <td>   244</td>      <th>  AIC:               </th> <td>   1280.</td>\n",
       "</tr>\n",
       "<tr>\n",
       "  <th>Df Residuals:</th>          <td>   233</td>      <th>  BIC:               </th> <td>   1318.</td>\n",
       "</tr>\n",
       "<tr>\n",
       "  <th>Df Model:</th>              <td>    10</td>      <th>                     </th>     <td> </td>   \n",
       "</tr>\n",
       "<tr>\n",
       "  <th>Covariance Type:</th>      <td>nonrobust</td>    <th>                     </th>     <td> </td>   \n",
       "</tr>\n",
       "</table>\n",
       "<table class=\"simpletable\">\n",
       "<tr>\n",
       "    <td></td>       <th>coef</th>     <th>std err</th>      <th>t</th>      <th>P>|t|</th>  <th>[0.025</th>    <th>0.975]</th>  \n",
       "</tr>\n",
       "<tr>\n",
       "  <th>const</th> <td>   -0.0140</td> <td>    0.019</td> <td>   -0.738</td> <td> 0.461</td> <td>   -0.051</td> <td>    0.023</td>\n",
       "</tr>\n",
       "<tr>\n",
       "  <th>x1</th>    <td>   -8.2097</td> <td>    5.175</td> <td>   -1.586</td> <td> 0.114</td> <td>  -18.406</td> <td>    1.987</td>\n",
       "</tr>\n",
       "<tr>\n",
       "  <th>x2</th>    <td>   -0.1094</td> <td>    0.070</td> <td>   -1.559</td> <td> 0.120</td> <td>   -0.248</td> <td>    0.029</td>\n",
       "</tr>\n",
       "<tr>\n",
       "  <th>x3</th>    <td>    0.0251</td> <td>    0.010</td> <td>    2.523</td> <td> 0.012</td> <td>    0.005</td> <td>    0.045</td>\n",
       "</tr>\n",
       "<tr>\n",
       "  <th>x4</th>    <td>   -0.3933</td> <td>    0.668</td> <td>   -0.589</td> <td> 0.556</td> <td>   -1.708</td> <td>    0.922</td>\n",
       "</tr>\n",
       "<tr>\n",
       "  <th>x5</th>    <td>   -0.3128</td> <td>    0.123</td> <td>   -2.545</td> <td> 0.012</td> <td>   -0.555</td> <td>   -0.071</td>\n",
       "</tr>\n",
       "<tr>\n",
       "  <th>x6</th>    <td>   -0.0003</td> <td>    0.000</td> <td>   -2.811</td> <td> 0.005</td> <td>   -0.001</td> <td>-9.95e-05</td>\n",
       "</tr>\n",
       "<tr>\n",
       "  <th>x7</th>    <td>    0.0673</td> <td>    0.026</td> <td>    2.599</td> <td> 0.010</td> <td>    0.016</td> <td>    0.118</td>\n",
       "</tr>\n",
       "<tr>\n",
       "  <th>x8</th>    <td>   -4.7889</td> <td>    1.869</td> <td>   -2.563</td> <td> 0.011</td> <td>   -8.471</td> <td>   -1.107</td>\n",
       "</tr>\n",
       "<tr>\n",
       "  <th>x9</th>    <td>  114.4775</td> <td>   45.680</td> <td>    2.506</td> <td> 0.013</td> <td>   24.479</td> <td>  204.475</td>\n",
       "</tr>\n",
       "<tr>\n",
       "  <th>x10</th>   <td> 3.036e-07</td> <td> 1.01e-07</td> <td>    3.016</td> <td> 0.003</td> <td> 1.05e-07</td> <td> 5.02e-07</td>\n",
       "</tr>\n",
       "<tr>\n",
       "  <th>x11</th>   <td>-6.796e-05</td> <td> 2.31e-05</td> <td>   -2.946</td> <td> 0.004</td> <td>   -0.000</td> <td>-2.25e-05</td>\n",
       "</tr>\n",
       "<tr>\n",
       "  <th>x12</th>   <td>    0.0054</td> <td>    0.002</td> <td>    2.846</td> <td> 0.005</td> <td>    0.002</td> <td>    0.009</td>\n",
       "</tr>\n",
       "<tr>\n",
       "  <th>x13</th>   <td>   -0.1683</td> <td>    0.069</td> <td>   -2.429</td> <td> 0.016</td> <td>   -0.305</td> <td>   -0.032</td>\n",
       "</tr>\n",
       "<tr>\n",
       "  <th>x14</th>   <td>    1.3989</td> <td>    1.118</td> <td>    1.251</td> <td> 0.212</td> <td>   -0.805</td> <td>    3.602</td>\n",
       "</tr>\n",
       "</table>\n",
       "<table class=\"simpletable\">\n",
       "<tr>\n",
       "  <th>Omnibus:</th>       <td> 0.881</td> <th>  Durbin-Watson:     </th> <td>   0.364</td>\n",
       "</tr>\n",
       "<tr>\n",
       "  <th>Prob(Omnibus):</th> <td> 0.644</td> <th>  Jarque-Bera (JB):  </th> <td>   0.609</td>\n",
       "</tr>\n",
       "<tr>\n",
       "  <th>Skew:</th>          <td>-0.090</td> <th>  Prob(JB):          </th> <td>   0.738</td>\n",
       "</tr>\n",
       "<tr>\n",
       "  <th>Kurtosis:</th>      <td> 3.165</td> <th>  Cond. No.          </th> <td>1.95e+18</td>\n",
       "</tr>\n",
       "</table><br/><br/>Notes:<br/>[1] Standard Errors assume that the covariance matrix of the errors is correctly specified.<br/>[2] The condition number is large, 1.95e+18. This might indicate that there are<br/>strong multicollinearity or other numerical problems."
      ],
      "text/plain": [
       "<class 'statsmodels.iolib.summary.Summary'>\n",
       "\"\"\"\n",
       "                            OLS Regression Results                            \n",
       "==============================================================================\n",
       "Dep. Variable:                      y   R-squared:                       0.634\n",
       "Model:                            OLS   Adj. R-squared:                  0.618\n",
       "Method:                 Least Squares   F-statistic:                     40.30\n",
       "Date:                Wed, 10 Nov 2021   Prob (F-statistic):           2.15e-45\n",
       "Time:                        14:12:30   Log-Likelihood:                -628.78\n",
       "No. Observations:                 244   AIC:                             1280.\n",
       "Df Residuals:                     233   BIC:                             1318.\n",
       "Df Model:                          10                                         \n",
       "Covariance Type:            nonrobust                                         \n",
       "==============================================================================\n",
       "                 coef    std err          t      P>|t|      [0.025      0.975]\n",
       "------------------------------------------------------------------------------\n",
       "const         -0.0140      0.019     -0.738      0.461      -0.051       0.023\n",
       "x1            -8.2097      5.175     -1.586      0.114     -18.406       1.987\n",
       "x2            -0.1094      0.070     -1.559      0.120      -0.248       0.029\n",
       "x3             0.0251      0.010      2.523      0.012       0.005       0.045\n",
       "x4            -0.3933      0.668     -0.589      0.556      -1.708       0.922\n",
       "x5            -0.3128      0.123     -2.545      0.012      -0.555      -0.071\n",
       "x6            -0.0003      0.000     -2.811      0.005      -0.001   -9.95e-05\n",
       "x7             0.0673      0.026      2.599      0.010       0.016       0.118\n",
       "x8            -4.7889      1.869     -2.563      0.011      -8.471      -1.107\n",
       "x9           114.4775     45.680      2.506      0.013      24.479     204.475\n",
       "x10         3.036e-07   1.01e-07      3.016      0.003    1.05e-07    5.02e-07\n",
       "x11        -6.796e-05   2.31e-05     -2.946      0.004      -0.000   -2.25e-05\n",
       "x12            0.0054      0.002      2.846      0.005       0.002       0.009\n",
       "x13           -0.1683      0.069     -2.429      0.016      -0.305      -0.032\n",
       "x14            1.3989      1.118      1.251      0.212      -0.805       3.602\n",
       "==============================================================================\n",
       "Omnibus:                        0.881   Durbin-Watson:                   0.364\n",
       "Prob(Omnibus):                  0.644   Jarque-Bera (JB):                0.609\n",
       "Skew:                          -0.090   Prob(JB):                        0.738\n",
       "Kurtosis:                       3.165   Cond. No.                     1.95e+18\n",
       "==============================================================================\n",
       "\n",
       "Notes:\n",
       "[1] Standard Errors assume that the covariance matrix of the errors is correctly specified.\n",
       "[2] The condition number is large, 1.95e+18. This might indicate that there are\n",
       "strong multicollinearity or other numerical problems.\n",
       "\"\"\""
      ]
     },
     "execution_count": 79,
     "metadata": {},
     "output_type": "execute_result"
    }
   ],
   "source": [
    "mod_poly_2.summary()"
   ]
  },
  {
   "cell_type": "code",
   "execution_count": null,
   "id": "b4032f2f-6891-4786-9cce-6d5a2c872815",
   "metadata": {},
   "outputs": [],
   "source": []
  },
  {
   "cell_type": "code",
   "execution_count": null,
   "id": "d26b1df0-7e39-439e-a09c-6b92af8fed85",
   "metadata": {},
   "outputs": [],
   "source": []
  }
 ],
 "metadata": {
  "kernelspec": {
   "display_name": "Python 3 (ipykernel)",
   "language": "python",
   "name": "python3"
  },
  "language_info": {
   "codemirror_mode": {
    "name": "ipython",
    "version": 3
   },
   "file_extension": ".py",
   "mimetype": "text/x-python",
   "name": "python",
   "nbconvert_exporter": "python",
   "pygments_lexer": "ipython3",
   "version": "3.9.7"
  }
 },
 "nbformat": 4,
 "nbformat_minor": 5
}
