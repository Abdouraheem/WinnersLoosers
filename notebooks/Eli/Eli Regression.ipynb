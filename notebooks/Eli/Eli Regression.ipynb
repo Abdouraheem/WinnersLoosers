{
 "cells": [
  {
   "cell_type": "code",
   "execution_count": 1,
   "id": "f53f79e5-6710-40e2-ae58-997297a7976b",
   "metadata": {},
   "outputs": [],
   "source": [
    "import matplotlib.pyplot as plt\n",
    "from sklearn.linear_model import LinearRegression\n",
    "import numpy as np\n",
    "from __future__ import division\n",
    "import pandas as pd\n",
    "import requests \n",
    "from dotenv import load_dotenv\n",
    "import os\n",
    "import json"
   ]
  },
  {
   "cell_type": "code",
   "execution_count": 2,
   "id": "4bc605a6-1f58-4286-a328-4aacc32dc13e",
   "metadata": {},
   "outputs": [
    {
     "data": {
      "text/plain": [
       "True"
      ]
     },
     "execution_count": 2,
     "metadata": {},
     "output_type": "execute_result"
    }
   ],
   "source": [
    "load_dotenv()"
   ]
  },
  {
   "cell_type": "code",
   "execution_count": 3,
   "id": "b3f6d570-93f7-42bf-ad2e-c0d1783c7d67",
   "metadata": {},
   "outputs": [],
   "source": [
    "quandl_api = os.getenv(\"quandl_api\")"
   ]
  },
  {
   "cell_type": "code",
   "execution_count": 4,
   "id": "ab4ffeeb-8a9c-48f4-93c0-ae1b5dcc6bf9",
   "metadata": {},
   "outputs": [
    {
     "data": {
      "text/plain": [
       "str"
      ]
     },
     "execution_count": 4,
     "metadata": {},
     "output_type": "execute_result"
    }
   ],
   "source": [
    "type(quandl_api)"
   ]
  },
  {
   "cell_type": "code",
   "execution_count": 5,
   "id": "bdf5f1b9-86e9-4dbc-8976-f9a01b929d2c",
   "metadata": {},
   "outputs": [
    {
     "data": {
      "text/plain": [
       "Date\n",
       "2017-01-03     77.79\n",
       "2017-01-04     79.26\n",
       "2017-01-05     76.81\n",
       "2017-01-06     77.16\n",
       "2017-01-09     76.84\n",
       "               ...  \n",
       "2017-12-22    102.84\n",
       "2017-12-26    105.20\n",
       "2017-12-27    105.24\n",
       "2017-12-28    104.22\n",
       "2017-12-29    103.95\n",
       "Name: Close, Length: 250, dtype: float64"
      ]
     },
     "execution_count": 5,
     "metadata": {},
     "output_type": "execute_result"
    }
   ],
   "source": [
    "import quandl\n",
    "y_tif_equity = quandl.get(\"WIKI/TIF\",start_date=\"2017-01-01\",end_date=\"2018-01-01\")[\"Close\"]\n",
    "y_tif_equity"
   ]
  },
  {
   "cell_type": "code",
   "execution_count": 6,
   "id": "2eebd415-e73a-4fae-91cd-44b2889d1af1",
   "metadata": {},
   "outputs": [],
   "source": [
    "gold = quandl.get('LBMA/GOLD', start_date=\"2017-01-01\",end_date=\"2018-01-01\")\n",
    "gold = gold.rename(columns={'USD (PM)': 'gold'})\n",
    "gold = gold[\"gold\"]\n"
   ]
  },
  {
   "cell_type": "code",
   "execution_count": 7,
   "id": "ed243b7c-85c8-4ceb-ae99-c52ec2f74ed0",
   "metadata": {},
   "outputs": [],
   "source": [
    "silver = quandl.get('LBMA/SILVER', start_date=\"2017-01-01\",end_date=\"2018-01-01\")\n",
    "silver = silver.rename(columns={'USD': 'silver'})[\"silver\"]\n"
   ]
  },
  {
   "cell_type": "code",
   "execution_count": 8,
   "id": "c2908832-4abf-4fb3-a0b5-bac0b4a1244a",
   "metadata": {},
   "outputs": [],
   "source": [
    "x_closing_prices_df = pd.DataFrame()\n",
    "x_closing_prices_df = pd.concat([gold, silver], axis=1)\n"
   ]
  },
  {
   "cell_type": "code",
   "execution_count": 9,
   "id": "18b084c8-a471-4ce0-85b1-292effeb96d1",
   "metadata": {},
   "outputs": [],
   "source": [
    "new_dataframe = x_closing_prices_df.merge(y_tif_equity,left_index=True, right_index=True)"
   ]
  },
  {
   "cell_type": "code",
   "execution_count": 10,
   "id": "95abab3b-889c-47ff-b377-02da7ffff35c",
   "metadata": {},
   "outputs": [],
   "source": [
    "new_dataframe.rename(columns={\"gold\":\"Gold\",\"silver\":\"Silver\",\"Close\":\"TIF Close\"},inplace=True)"
   ]
  },
  {
   "cell_type": "code",
   "execution_count": 11,
   "id": "6c1b8d5b-aa0f-4557-933b-c5820a6c856f",
   "metadata": {},
   "outputs": [],
   "source": [
    "new_dataframe.dropna(inplace=True)"
   ]
  },
  {
   "cell_type": "code",
   "execution_count": 12,
   "id": "647c3924-c028-4117-8010-d8f39c54eab3",
   "metadata": {},
   "outputs": [],
   "source": [
    "y = new_dataframe[\"TIF Close\"].values\n",
    "x = new_dataframe.drop(columns=\"TIF Close\").values"
   ]
  },
  {
   "cell_type": "code",
   "execution_count": 13,
   "id": "ecffe25d-7adc-4e17-b346-d5f5e7c106ff",
   "metadata": {},
   "outputs": [],
   "source": [
    "from sklearn.model_selection import train_test_split\n",
    "#splitting the data to train the model and using 30% of the data for training and 70% for actual data\n",
    "x_train, x_test, y_train, y_test = train_test_split(x,y,test_size=.3,random_state=0)"
   ]
  },
  {
   "cell_type": "code",
   "execution_count": 14,
   "id": "edd0003f-9340-4823-8a16-748646437684",
   "metadata": {},
   "outputs": [
    {
     "data": {
      "text/plain": [
       "LinearRegression()"
      ]
     },
     "execution_count": 14,
     "metadata": {},
     "output_type": "execute_result"
    }
   ],
   "source": [
    "from sklearn.linear_model import LinearRegression\n",
    "model = LinearRegression()\n",
    "model.fit(x_train,y_train)"
   ]
  },
  {
   "cell_type": "code",
   "execution_count": 15,
   "id": "cf5a5abb-d067-48d6-959b-df9383195ce2",
   "metadata": {},
   "outputs": [],
   "source": [
    "y_pred = model.predict(x_test)"
   ]
  },
  {
   "cell_type": "code",
   "execution_count": 16,
   "id": "2c44ab1e-07fa-4946-abe3-a02b929ac808",
   "metadata": {},
   "outputs": [
    {
     "data": {
      "text/plain": [
       "array([81.15663332])"
      ]
     },
     "execution_count": 16,
     "metadata": {},
     "output_type": "execute_result"
    }
   ],
   "source": [
    "model.predict([[1000,12]])"
   ]
  },
  {
   "cell_type": "code",
   "execution_count": 17,
   "id": "2c283df9-3206-4bdc-9a76-4a20a4610273",
   "metadata": {},
   "outputs": [],
   "source": [
    "from sklearn.metrics import r2_score\n",
    "r2_score = r2_score(y_test,y_pred)"
   ]
  },
  {
   "cell_type": "code",
   "execution_count": 18,
   "id": "914b6a5b-466f-4032-a7d0-03a7c9ba32f8",
   "metadata": {},
   "outputs": [
    {
     "data": {
      "text/plain": [
       "0.38535745862565896"
      ]
     },
     "execution_count": 18,
     "metadata": {},
     "output_type": "execute_result"
    }
   ],
   "source": [
    "r2_score"
   ]
  },
  {
   "cell_type": "code",
   "execution_count": 19,
   "id": "f2688ef1-8da6-4857-be38-e372e83de60e",
   "metadata": {},
   "outputs": [
    {
     "data": {
      "text/plain": [
       "Text(0, 0.5, 'Predicted Data')"
      ]
     },
     "execution_count": 19,
     "metadata": {},
     "output_type": "execute_result"
    },
    {
     "data": {
      "image/png": "[encoded data removed]",
      "text/plain": [
       "<Figure size 720x720 with 1 Axes>"
      ]
     },
     "metadata": {
      "needs_background": "light"
     },
     "output_type": "display_data"
    }
   ],
   "source": [
    "plt.figure(figsize=(10,10))\n",
    "plt.scatter(y_test,y_pred)\n",
    "plt.xlabel(\"Test Data\")\n",
    "plt.ylabel(\"Predicted Data\")"
   ]
  },
  {
   "cell_type": "code",
   "execution_count": null,
   "id": "ca94cfd9-3d10-48e3-bfab-cd248d20de01",
   "metadata": {},
   "outputs": [],
   "source": []
  }
 ],
 "metadata": {
  "kernelspec": {
   "display_name": "Python 3 (ipykernel)",
   "language": "python",
   "name": "python3"
  },
  "language_info": {
   "codemirror_mode": {
    "name": "ipython",
    "version": 3
   },
   "file_extension": ".py",
   "mimetype": "text/x-python",
   "name": "python",
   "nbconvert_exporter": "python",
   "pygments_lexer": "ipython3",
   "version": "3.9.7"
  }
 },
 "nbformat": 4,
 "nbformat_minor": 5
}
