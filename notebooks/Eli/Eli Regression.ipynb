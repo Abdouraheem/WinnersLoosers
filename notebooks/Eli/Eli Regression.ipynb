{
 "cells": [
  {
   "cell_type": "code",
   "execution_count": 1,
   "id": "f53f79e5-6710-40e2-ae58-997297a7976b",
   "metadata": {},
   "outputs": [],
   "source": [
    "import matplotlib.pyplot as plt\n",
    "from sklearn.linear_model import LinearRegression\n",
    "import numpy as np\n",
    "from __future__ import division\n",
    "import pandas as pd\n",
    "import requests \n",
    "from dotenv import load_dotenv\n",
    "import os\n",
    "import json"
   ]
  },
  {
   "cell_type": "code",
   "execution_count": 2,
   "id": "4bc605a6-1f58-4286-a328-4aacc32dc13e",
   "metadata": {},
   "outputs": [
    {
     "data": {
      "text/plain": [
       "True"
      ]
     },
     "execution_count": 2,
     "metadata": {},
     "output_type": "execute_result"
    }
   ],
   "source": [
    "load_dotenv()"
   ]
  },
  {
   "cell_type": "code",
   "execution_count": 3,
   "id": "b3f6d570-93f7-42bf-ad2e-c0d1783c7d67",
   "metadata": {},
   "outputs": [],
   "source": [
    "quandl_api = os.getenv(\"quandl_api\")"
   ]
  },
  {
   "cell_type": "code",
   "execution_count": 4,
   "id": "ab4ffeeb-8a9c-48f4-93c0-ae1b5dcc6bf9",
   "metadata": {},
   "outputs": [
    {
     "data": {
      "text/plain": [
       "str"
      ]
     },
     "execution_count": 4,
     "metadata": {},
     "output_type": "execute_result"
    }
   ],
   "source": [
    "type(quandl_api)"
   ]
  },
  {
   "cell_type": "code",
   "execution_count": 5,
   "id": "f2b03770-aa8e-4bac-8289-194f24ade596",
   "metadata": {},
   "outputs": [],
   "source": [
    "url = \"https://data.nasdaq.com/api/v3/datasets/LBMA/GOLD\"\n"
   ]
  },
  {
   "cell_type": "code",
   "execution_count": 6,
   "id": "8ddd2780-fde5-48e1-b303-f4f037cf9f54",
   "metadata": {},
   "outputs": [],
   "source": [
    "gold_data = requests.get(url,quandl_api).json()"
   ]
  },
  {
   "cell_type": "code",
   "execution_count": 7,
   "id": "53680881-2348-44d1-b3df-55beea148d3d",
   "metadata": {},
   "outputs": [],
   "source": [
    "columns = gold_data[\"dataset\"][\"column_names\"]"
   ]
  },
  {
   "cell_type": "code",
   "execution_count": 8,
   "id": "9eb47192-1c8c-4cdf-9f73-9d8eef70cb8b",
   "metadata": {},
   "outputs": [],
   "source": [
    "df = pd.DataFrame(gold_data[\"dataset\"][\"data\"])"
   ]
  },
  {
   "cell_type": "code",
   "execution_count": 9,
   "id": "a48aa9cd-2ea6-4706-af4c-7ff92fd28e4c",
   "metadata": {},
   "outputs": [],
   "source": [
    "df.columns = columns"
   ]
  },
  {
   "cell_type": "code",
   "execution_count": 10,
   "id": "f6ccedf4-6999-4341-90b5-4306bc2a2806",
   "metadata": {},
   "outputs": [],
   "source": [
    "df = df.set_index(\"Date\")\n",
    "\n"
   ]
  },
  {
   "cell_type": "code",
   "execution_count": 11,
   "id": "c82c6301-730f-4a84-9e6c-2b188cb55cf0",
   "metadata": {},
   "outputs": [],
   "source": [
    "gold = df[\"2014-06-01\":\"2014-01-01\"]"
   ]
  },
  {
   "cell_type": "code",
   "execution_count": 12,
   "id": "b15fecb6-b41a-4ee3-a813-eae57fde24c7",
   "metadata": {},
   "outputs": [],
   "source": [
    "ticker = \"TIF\""
   ]
  },
  {
   "cell_type": "code",
   "execution_count": 13,
   "id": "8b91d9a6-4101-4443-abbb-876037f96c78",
   "metadata": {},
   "outputs": [],
   "source": [
    "url1= \"https://data.nasdaq.com/api/v3/datasets/WIKI/{}\".format(ticker)"
   ]
  },
  {
   "cell_type": "code",
   "execution_count": 14,
   "id": "9c81f311-8c74-4785-9f3f-db90bac010e0",
   "metadata": {},
   "outputs": [],
   "source": [
    "tif_get = requests.get(url1,quandl_api).json()"
   ]
  },
  {
   "cell_type": "code",
   "execution_count": 15,
   "id": "34700ed9-1f6b-440f-87be-75a487c1a2bb",
   "metadata": {},
   "outputs": [],
   "source": [
    "columns = tif_get[\"dataset\"][\"column_names\"]"
   ]
  },
  {
   "cell_type": "code",
   "execution_count": 16,
   "id": "dc10d5f9-3086-461f-b39c-853323cff4ad",
   "metadata": {},
   "outputs": [],
   "source": [
    "df = pd.DataFrame(tif_get[\"dataset\"][\"data\"])"
   ]
  },
  {
   "cell_type": "code",
   "execution_count": 17,
   "id": "8702ac24-fca0-4916-8e9d-5911a244a8d3",
   "metadata": {},
   "outputs": [],
   "source": [
    "df.columns = columns"
   ]
  },
  {
   "cell_type": "code",
   "execution_count": 18,
   "id": "f35c26d7-463f-4303-b7ce-1f04ec784783",
   "metadata": {},
   "outputs": [],
   "source": [
    "df = df.set_index(\"Date\")"
   ]
  },
  {
   "cell_type": "code",
   "execution_count": 19,
   "id": "77e69f28-5bfc-421b-b4cc-4b2946d856ca",
   "metadata": {},
   "outputs": [],
   "source": [
    "one_year = df.loc[\"2014-06-01\":\"2014-01-01\"]"
   ]
  },
  {
   "cell_type": "code",
   "execution_count": 20,
   "id": "bab6be19-c8b7-4125-a09b-bfef9eb4bc05",
   "metadata": {},
   "outputs": [],
   "source": [
    "x_gold_close = gold[\"USD (AM)\"]"
   ]
  },
  {
   "cell_type": "code",
   "execution_count": 21,
   "id": "c0626eed-a048-4001-b52a-6d71bb7c5fe5",
   "metadata": {},
   "outputs": [],
   "source": [
    "y_tif_close = one_year[\"Close\"]"
   ]
  },
  {
   "cell_type": "code",
   "execution_count": 22,
   "id": "ab541683-f271-4810-9056-657f0472d3a8",
   "metadata": {},
   "outputs": [],
   "source": [
    "x_gold_close.index = pd.to_datetime(x_gold_close.index,infer_datetime_format=True, format = \"%d/%m/%Y\")\n",
    "y_tif_close.index = pd.to_datetime(y_tif_close.index,infer_datetime_format=True, format = \"%d/%m/%Y\")"
   ]
  },
  {
   "cell_type": "code",
   "execution_count": 23,
   "id": "86b03ce5-7fff-4cbf-8301-ad890f114637",
   "metadata": {},
   "outputs": [
    {
     "data": {
      "text/plain": [
       "Date\n",
       "2014-05-30    1254.00\n",
       "2014-05-29    1254.00\n",
       "2014-05-28    1265.25\n",
       "2014-05-27    1283.00\n",
       "2014-05-23    1292.00\n",
       "               ...   \n",
       "2014-01-08    1226.50\n",
       "2014-01-07    1237.50\n",
       "2014-01-06    1238.00\n",
       "2014-01-03    1232.25\n",
       "2014-01-02    1219.75\n",
       "Name: USD (AM), Length: 103, dtype: float64"
      ]
     },
     "metadata": {},
     "output_type": "display_data"
    },
    {
     "data": {
      "text/plain": [
       "Date\n",
       "2014-05-30    99.41\n",
       "2014-05-29    99.13\n",
       "2014-05-28    97.78\n",
       "2014-05-27    97.92\n",
       "2014-05-23    96.59\n",
       "              ...  \n",
       "2014-01-08    91.70\n",
       "2014-01-07    92.15\n",
       "2014-01-06    91.64\n",
       "2014-01-03    92.28\n",
       "2014-01-02    92.55\n",
       "Name: Close, Length: 103, dtype: float64"
      ]
     },
     "metadata": {},
     "output_type": "display_data"
    }
   ],
   "source": [
    "display(x_gold_close,y_tif_close)"
   ]
  },
  {
   "cell_type": "code",
   "execution_count": 24,
   "id": "b5d866c4-1a78-4723-8056-0a77a6e6bc7c",
   "metadata": {},
   "outputs": [
    {
     "data": {
      "image/png": "[encoded data removed]",
      "text/plain": [
       "<Figure size 432x288 with 1 Axes>"
      ]
     },
     "metadata": {
      "needs_background": "light"
     },
     "output_type": "display_data"
    }
   ],
   "source": [
    "plt.figure()\n",
    "plt.plot(x_gold_close, y_tif_close, \"k.\")\n",
    "plt.grid(True)\n",
    "plt.show()"
   ]
  },
  {
   "cell_type": "code",
   "execution_count": null,
   "id": "efb99165-4c3c-4abd-9510-6b025af86e92",
   "metadata": {},
   "outputs": [],
   "source": []
  },
  {
   "cell_type": "code",
   "execution_count": 25,
   "id": "19c39c1d-979d-42af-9a3f-e26e44ef03af",
   "metadata": {},
   "outputs": [],
   "source": [
    "model = LinearRegression()"
   ]
  },
  {
   "cell_type": "code",
   "execution_count": 26,
   "id": "c9b70080-b499-4a89-849d-f2965450428e",
   "metadata": {},
   "outputs": [],
   "source": [
    "x = x_gold_close.to_numpy()"
   ]
  },
  {
   "cell_type": "code",
   "execution_count": 27,
   "id": "b713b46e-f17e-45cb-a68b-d5d2cb8525ac",
   "metadata": {},
   "outputs": [],
   "source": [
    "y = y_tif_close.to_numpy()"
   ]
  },
  {
   "cell_type": "code",
   "execution_count": 28,
   "id": "d4371890-076c-41b0-8e64-40f0d853766b",
   "metadata": {},
   "outputs": [
    {
     "data": {
      "text/plain": [
       "(103,)"
      ]
     },
     "execution_count": 28,
     "metadata": {},
     "output_type": "execute_result"
    }
   ],
   "source": [
    "x.shape"
   ]
  },
  {
   "cell_type": "code",
   "execution_count": 29,
   "id": "53b8c4d3-0bb3-4a2f-8526-c698cded4925",
   "metadata": {},
   "outputs": [
    {
     "data": {
      "text/plain": [
       "(103,)"
      ]
     },
     "execution_count": 29,
     "metadata": {},
     "output_type": "execute_result"
    }
   ],
   "source": [
    "y.shape"
   ]
  },
  {
   "cell_type": "code",
   "execution_count": 30,
   "id": "3982cee0-9cf7-4167-bcb2-7457f0cf4d31",
   "metadata": {},
   "outputs": [],
   "source": [
    "x = x.reshape(-1, 1)\n",
    "y = y.reshape(-1,1)"
   ]
  },
  {
   "cell_type": "code",
   "execution_count": 31,
   "id": "7416d435-e067-4368-acda-7c12fd1f61dd",
   "metadata": {},
   "outputs": [
    {
     "data": {
      "text/plain": [
       "LinearRegression()"
      ]
     },
     "execution_count": 31,
     "metadata": {},
     "output_type": "execute_result"
    }
   ],
   "source": [
    "model.fit(x,y)"
   ]
  },
  {
   "cell_type": "code",
   "execution_count": 46,
   "id": "29a42d6e-c262-4652-b352-84d401022324",
   "metadata": {},
   "outputs": [],
   "source": [
    "res_sum_of_squares = np.mean((model.predict(x)-y) **2)"
   ]
  },
  {
   "cell_type": "code",
   "execution_count": 33,
   "id": "827aa084-f23a-4d81-be24-19f9c361928f",
   "metadata": {},
   "outputs": [],
   "source": [
    "x_bar = x.mean()"
   ]
  },
  {
   "cell_type": "code",
   "execution_count": 34,
   "id": "13d16b01-c10c-4f71-b783-4d3cb17fbe97",
   "metadata": {},
   "outputs": [],
   "source": [
    "variance = np.var(x,ddof=1)"
   ]
  },
  {
   "cell_type": "code",
   "execution_count": 35,
   "id": "82785743-a62e-4088-83b6-b5a88e75654c",
   "metadata": {},
   "outputs": [
    {
     "data": {
      "text/plain": [
       "1355.6491290691033"
      ]
     },
     "execution_count": 35,
     "metadata": {},
     "output_type": "execute_result"
    }
   ],
   "source": [
    "variance"
   ]
  },
  {
   "cell_type": "code",
   "execution_count": 36,
   "id": "7e48be55-8fa2-47f8-9bd8-4d74538e51b6",
   "metadata": {},
   "outputs": [],
   "source": [
    "cov = np.cov(x.T,y.T)[0][1]"
   ]
  },
  {
   "cell_type": "code",
   "execution_count": 37,
   "id": "158a7fef-9e74-4faf-a699-fbb1aa2e69c2",
   "metadata": {},
   "outputs": [
    {
     "data": {
      "text/plain": [
       "31.53068770226537"
      ]
     },
     "execution_count": 37,
     "metadata": {},
     "output_type": "execute_result"
    }
   ],
   "source": [
    "cov"
   ]
  },
  {
   "cell_type": "code",
   "execution_count": 38,
   "id": "6b098c63-47d2-4938-98bc-179313dc21c2",
   "metadata": {},
   "outputs": [],
   "source": [
    "beta = cov/variance"
   ]
  },
  {
   "cell_type": "code",
   "execution_count": 39,
   "id": "bd48bb70-f4bc-4912-9804-2313e061784f",
   "metadata": {},
   "outputs": [
    {
     "data": {
      "text/plain": [
       "0.023258737844590253"
      ]
     },
     "execution_count": 39,
     "metadata": {},
     "output_type": "execute_result"
    }
   ],
   "source": [
    "beta"
   ]
  },
  {
   "cell_type": "code",
   "execution_count": 40,
   "id": "43b6b677-6605-4fbd-82b2-56795e01a1b5",
   "metadata": {},
   "outputs": [
    {
     "data": {
      "text/plain": [
       "1292.7305825242718"
      ]
     },
     "execution_count": 40,
     "metadata": {},
     "output_type": "execute_result"
    }
   ],
   "source": [
    "x_bar"
   ]
  },
  {
   "cell_type": "code",
   "execution_count": 41,
   "id": "aa648ff6-b929-4edb-b0fe-0ac1d41241bc",
   "metadata": {},
   "outputs": [],
   "source": [
    "y_bar = y.mean()"
   ]
  },
  {
   "cell_type": "code",
   "execution_count": 42,
   "id": "8968c59a-4ff8-4d0c-8de5-40cb6fb65fc9",
   "metadata": {},
   "outputs": [
    {
     "data": {
      "text/plain": [
       "89.027572815534"
      ]
     },
     "execution_count": 42,
     "metadata": {},
     "output_type": "execute_result"
    }
   ],
   "source": [
    "y_bar"
   ]
  },
  {
   "cell_type": "code",
   "execution_count": 47,
   "id": "232db0a3-b288-4f8c-a677-b76e3b0904db",
   "metadata": {},
   "outputs": [],
   "source": [
    "a = y_bar - beta * x_bar"
   ]
  },
  {
   "cell_type": "code",
   "execution_count": 50,
   "id": "160124eb-c1b4-4c73-bfe5-65a118ed38c6",
   "metadata": {},
   "outputs": [],
   "source": [
    "def price(x):\n",
    "    return a+beta*x"
   ]
  },
  {
   "cell_type": "code",
   "execution_count": 57,
   "id": "2c321d56-f66e-4e38-ac0b-4ee2b20a1a5c",
   "metadata": {},
   "outputs": [
    {
     "data": {
      "text/plain": [
       "88.1267483500337"
      ]
     },
     "execution_count": 57,
     "metadata": {},
     "output_type": "execute_result"
    }
   ],
   "source": [
    "price(1254)"
   ]
  },
  {
   "cell_type": "code",
   "execution_count": 53,
   "id": "640a047e-47bf-42dd-8d3e-39bd48d56edf",
   "metadata": {},
   "outputs": [
    {
     "data": {
      "text/plain": [
       "Date\n",
       "2014-05-30    1254.00\n",
       "2014-05-29    1254.00\n",
       "2014-05-28    1265.25\n",
       "2014-05-27    1283.00\n",
       "2014-05-23    1292.00\n",
       "               ...   \n",
       "2014-01-08    1226.50\n",
       "2014-01-07    1237.50\n",
       "2014-01-06    1238.00\n",
       "2014-01-03    1232.25\n",
       "2014-01-02    1219.75\n",
       "Name: USD (AM), Length: 103, dtype: float64"
      ]
     },
     "execution_count": 53,
     "metadata": {},
     "output_type": "execute_result"
    }
   ],
   "source": [
    "x_gold_close"
   ]
  },
  {
   "cell_type": "code",
   "execution_count": 56,
   "id": "9b695c21-1709-42dd-aa74-d4905bd3407e",
   "metadata": {},
   "outputs": [
    {
     "data": {
      "text/plain": [
       "Date\n",
       "2014-05-30    99.41\n",
       "2014-05-29    99.13\n",
       "2014-05-28    97.78\n",
       "2014-05-27    97.92\n",
       "2014-05-23    96.59\n",
       "              ...  \n",
       "2014-01-08    91.70\n",
       "2014-01-07    92.15\n",
       "2014-01-06    91.64\n",
       "2014-01-03    92.28\n",
       "2014-01-02    92.55\n",
       "Name: Close, Length: 103, dtype: float64"
      ]
     },
     "execution_count": 56,
     "metadata": {},
     "output_type": "execute_result"
    }
   ],
   "source": [
    "y_tif_close"
   ]
  },
  {
   "cell_type": "code",
   "execution_count": null,
   "id": "439ee16a-53c0-4ee4-9491-104a96bd8190",
   "metadata": {},
   "outputs": [],
   "source": []
  }
 ],
 "metadata": {
  "kernelspec": {
   "display_name": "Python 3 (ipykernel)",
   "language": "python",
   "name": "python3"
  },
  "language_info": {
   "codemirror_mode": {
    "name": "ipython",
    "version": 3
   },
   "file_extension": ".py",
   "mimetype": "text/x-python",
   "name": "python",
   "nbconvert_exporter": "python",
   "pygments_lexer": "ipython3",
   "version": "3.9.7"
  }
 },
 "nbformat": 4,
 "nbformat_minor": 5
}
